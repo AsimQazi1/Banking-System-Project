{
 "cells": [
  {
   "cell_type": "markdown",
   "id": "0bf03507-7aef-4ddf-8951-3e7b6c58818d",
   "metadata": {},
   "source": [
    "# CREAT ACCOUNT"
   ]
  },
  {
   "cell_type": "code",
   "execution_count": 83,
   "id": "8e346e3b-2fbd-435f-ab3a-32a2497eed6a",
   "metadata": {},
   "outputs": [
    {
     "name": "stdin",
     "output_type": "stream",
     "text": [
      "Enter the user name: Asim Qazi\n",
      "Enter the user Father Name: Imtiaz Qazi\n",
      "Enter the user CNIC Number 4210100000003\n"
     ]
    },
    {
     "name": "stdout",
     "output_type": "stream",
     "text": [
      "Account created successfully with account number: 9523849694671\n",
      "{'account_number': 9523849694671, 'name': 'Asim Qazi', 'father name': 'Imtiaz Qazi', 'cnic': 4210100000003, 'balance': 0.0, 'transaction': []}\n"
     ]
    }
   ],
   "source": [
    "import random\n",
    "accounts = []\n",
    "def Account_Create():\n",
    "    name = input(\"Enter the user name:\")\n",
    "    father_name = input(\"Enter the user Father Name:\")\n",
    "    cnic = input(\"Enter the user CNIC Number\")\n",
    "    if not str(cnic).isnumeric():\n",
    "        print(\"Invalid CNIC! CNIC must be a numeric value.\")\n",
    "       \n",
    "        \n",
    "    cnic = int(cnic)\n",
    "    if not (1000000000000 <= cnic <= 9999999999999):\n",
    "        print(\"Invalid CNIC! It must be a 13-digit number.\")\n",
    "        \n",
    "    account_number = random.randint(1000000000000, 9999999999999) #to generate random account number\n",
    "    Account = {} # to creating a dicitionary\n",
    "    Account[\"account_number\"] = account_number\n",
    "    Account[\"name\"] = name\n",
    "    Account[\"father name\"] = father_name\n",
    "    Account[\"cnic\"] = cnic\n",
    "    Account[\"balance\"] = 0.0\n",
    "    Account[\"transaction\"] = []\n",
    "    accounts.append(Account)\n",
    "    print(f\"Account created successfully with account number: {account_number}\")\n",
    "    with open ('accountdetails.txt', 'a')as f:\n",
    "        New_Accountdetails = f'Account Holder Name: {Account[\"name\"]}, Account Number: {Account[\"account_number\"]}, New Balance: {Account[\"balance\"]},\\n'\n",
    "        f.write(New_Accountdetails)\n",
    "    return Account\n",
    "def find_account(account_no):\n",
    "    for Account in accounts:\n",
    "        if Account[\"account_number\"] == account_no:\n",
    "            return Account \n",
    "    return None\n",
    "Account = Account_Create()\n",
    "print (Account)\n",
    "    "
   ]
  },
  {
   "cell_type": "markdown",
   "id": "d9386d02-e12f-4aa0-a675-229e3dcc80c5",
   "metadata": {},
   "source": [
    "# DEPOSIT AMOUNT"
   ]
  },
  {
   "cell_type": "code",
   "execution_count": 85,
   "id": "92947056-44fb-4dee-b440-0b29b9236e69",
   "metadata": {},
   "outputs": [
    {
     "name": "stdin",
     "output_type": "stream",
     "text": [
      "Enter your account number:  9523849694671\n",
      "Enter the deposit Amount must be positive 2000\n"
     ]
    },
    {
     "name": "stdout",
     "output_type": "stream",
     "text": [
      "Deposit Amount is 2000 and now your Account Balance 2000.0\n"
     ]
    }
   ],
   "source": [
    "def find_account(account_no):\n",
    "    for Account in accounts:\n",
    "        if Account[\"account_number\"] == account_no:\n",
    "            return Account\n",
    "    return None  # If account is not found\n",
    "def deposit_function():\n",
    "    account_no = int(input('Enter your account number: '))\n",
    "    Account = find_account(account_no)\n",
    "    if not Account:\n",
    "        print('Account not found!')\n",
    "        return\n",
    "    deposit_amount = int(input(\"Enter the deposit Amount must be positive\"))\n",
    "    if deposit_amount >0:\n",
    "        Account[\"balance\"]+= deposit_amount\n",
    "        print(f\"Deposit Amount is {deposit_amount} and now your Account Balance {Account['balance']}\")\n",
    "        transaction_details = {\n",
    "            \"type\": \"Deposit\",\n",
    "            \"amount\": deposit_amount,\n",
    "            \"balance_after\": Account[\"balance\"]\n",
    "        }\n",
    "        Account[\"transaction\"].append(transaction_details) # to creat a function for transaction file in txt\n",
    "        with open('Transaction.txt', 'a') as f:\n",
    "            f.write(f\"\"\"Account Number: {Account[\"account_number\"]}\n",
    "Account Title:{Account[\"name\"]},\n",
    "CNIC Number: {Account[\"cnic\"]}\n",
    "Deposited {deposit_amount} \n",
    "New Balance. {Account['balance']}\\n\"\"\")\n",
    "            return Account\n",
    "    else:\n",
    "        print(\"Deposit Amount must be Positive\")\n",
    "        \n",
    "\n",
    "Account = deposit_function()\n"
   ]
  },
  {
   "cell_type": "markdown",
   "id": "cd565eac-42a4-4b88-aebd-6c237b1b880a",
   "metadata": {},
   "source": [
    "# WITHDRAWL AMOUNT"
   ]
  },
  {
   "cell_type": "code",
   "execution_count": 87,
   "id": "6e7260dd-5c87-4cbe-adcd-0495d98ce798",
   "metadata": {},
   "outputs": [
    {
     "name": "stdin",
     "output_type": "stream",
     "text": [
      "Enter your account number:  9523849694671\n",
      "Enter your account number:  9523849694671\n",
      "Enter the Withdrawal Amount (must be Positive):  200\n"
     ]
    },
    {
     "name": "stdout",
     "output_type": "stream",
     "text": [
      "Withdrawal Amount Successfully: 200, Now your Account Balance is 1800.0\n"
     ]
    }
   ],
   "source": [
    "# Function to find account by account number\n",
    "def find_account(account_no):\n",
    "    for Account in accounts:\n",
    "        if Account[\"account_number\"] == account_no:\n",
    "            return Account\n",
    "    return None  # If account is not found\n",
    "\n",
    "def withdrawl_function(Account):\n",
    "    withdrawl_amount = int(input(\"Enter the Withdrawal Amount (must be Positive): \"))\n",
    "    \n",
    "    if withdrawl_amount > 0:\n",
    "        \n",
    "        if withdrawl_amount <= Account[\"balance\"]:\n",
    "            Account[\"balance\"] -= withdrawl_amount\n",
    "            print(f\"Withdrawal Amount Successfully: {withdrawl_amount}, Now your Account Balance is {Account['balance']}\")\n",
    "\n",
    "            \n",
    "            transaction_details = {\n",
    "                \"type\": \"Withdrawal\",  \n",
    "                \"amount\": withdrawl_amount,\n",
    "                \"balance_after\": Account[\"balance\"]\n",
    "            }\n",
    "            \n",
    "            Account[\"transaction\"].append(transaction_details)\n",
    "\n",
    "            \n",
    "            with open('Transaction.txt', 'a') as f:\n",
    "                f.write(f\"\"\"Account Number: {Account[\"account_number\"]}, \n",
    "                            Account Title: {Account[\"name\"]},\n",
    "                            CNIC Number: {Account[\"cnic\"]},\n",
    "                            Withdrawn: {withdrawl_amount}, \n",
    "                            New Balance: {Account['balance']}\\n\"\"\")\n",
    "                return Account\n",
    "        else:\n",
    "            print(\"Insufficient funds!\")\n",
    "            return\n",
    "    else:\n",
    "        print(\"Withdrawal amount must be positive!\")\n",
    "        return\n",
    "\n",
    "account_no = int(input(\"Enter your account number: \"))\n",
    "Account = find_account(account_no)  # Find the account by account number\n",
    "if Account:\n",
    "    Account = withdrawl_function(Account)  # Pass the found account to the withdraw function\n",
    "else:\n",
    "    print(\"Account not found!\")\n"
   ]
  },
  {
   "cell_type": "markdown",
   "id": "2a63472a-1a7c-4384-ac85-047d08f3bc12",
   "metadata": {},
   "source": [
    "# CHECK BALANCE"
   ]
  },
  {
   "cell_type": "code",
   "execution_count": 89,
   "id": "493bdd8e-f990-466b-bd31-3a64936e0633",
   "metadata": {},
   "outputs": [
    {
     "name": "stdin",
     "output_type": "stream",
     "text": [
      "Enter your Account Number 9523849694671\n"
     ]
    },
    {
     "name": "stdout",
     "output_type": "stream",
     "text": [
      "Your Account Balance is Rs: 1800.0\n"
     ]
    }
   ],
   "source": [
    "def check_balance ():\n",
    "    account_no = int(input(\"Enter your Account Number\"))\n",
    "    Account = find_account(account_no)\n",
    "    if not Account:\n",
    "        print(\"Account not Found\")\n",
    "        return\n",
    "        \n",
    "    print(\"Your Account Balance is Rs:\", Account[\"balance\"])\n",
    "    return Account\n",
    "Account = check_balance()  \n",
    "    "
   ]
  },
  {
   "cell_type": "markdown",
   "id": "a1e42161-f319-4d10-89e1-c6857db08275",
   "metadata": {},
   "source": [
    "# STATEMENT"
   ]
  },
  {
   "cell_type": "code",
   "execution_count": 101,
   "id": "4937a031-6eac-4f04-8bf8-b289dd9e4329",
   "metadata": {},
   "outputs": [
    {
     "name": "stdout",
     "output_type": "stream",
     "text": [
      "Welcome to Best Bank\n",
      "For Create Account Press, 1\n",
      "For Amount Deposit Press, 2\n",
      "For Amount Withdrawal Press, 3\n",
      "For Check Balance Press, 4\n",
      "Press 5 to Exit\n"
     ]
    },
    {
     "name": "stdin",
     "output_type": "stream",
     "text": [
      "Enter Your Number (1 to 5) or Press 5 to Exit:  1\n",
      "Enter the user name: Asim Qazi\n",
      "Enter the user Father Name: Imtiaz Qazi\n",
      "Enter the user CNIC Number 4210100000003\n"
     ]
    },
    {
     "name": "stdout",
     "output_type": "stream",
     "text": [
      "Account created successfully with account number: 8124478151662\n"
     ]
    },
    {
     "name": "stdin",
     "output_type": "stream",
     "text": [
      "Enter Your Number (1 to 5) or Press 5 to Exit:  2\n",
      "Enter your account number:  8124478151662\n",
      "Enter the deposit Amount must be positive 2000\n"
     ]
    },
    {
     "name": "stdout",
     "output_type": "stream",
     "text": [
      "Deposit Amount is 2000 and now your Account Balance 2000.0\n"
     ]
    },
    {
     "name": "stdin",
     "output_type": "stream",
     "text": [
      "Enter Your Number (1 to 5) or Press 5 to Exit:  3\n",
      "Enter your account number:  8124478151662\n",
      "Enter the Withdrawal Amount (must be Positive):  200\n"
     ]
    },
    {
     "name": "stdout",
     "output_type": "stream",
     "text": [
      "Withdrawal Amount Successfully: 200, Now your Account Balance is 1800.0\n"
     ]
    },
    {
     "name": "stdin",
     "output_type": "stream",
     "text": [
      "Enter Your Number (1 to 5) or Press 5 to Exit:  4\n",
      "Enter your Account Number 8124478151662\n"
     ]
    },
    {
     "name": "stdout",
     "output_type": "stream",
     "text": [
      "Your Account Balance is Rs: 1800.0\n"
     ]
    },
    {
     "name": "stdin",
     "output_type": "stream",
     "text": [
      "Enter Your Number (1 to 5) or Press 5 to Exit:  5\n"
     ]
    },
    {
     "name": "stdout",
     "output_type": "stream",
     "text": [
      "Thanks for visiting Best Bank, I hope to see you again!\n"
     ]
    }
   ],
   "source": [
    "def display_mainmenu():\n",
    "    print(f'Welcome to Best Bank')\n",
    "    print(f'For Create Account Press, 1')\n",
    "    print(f'For Amount Deposit Press, 2')\n",
    "    print(f'For Amount Withdrawal Press, 3')\n",
    "    print(f'For Check Balance Press, 4')\n",
    "    print(f'Press 5 to Exit')\n",
    "\n",
    "    while True:\n",
    "        try:\n",
    "            choice = int(input(\"Enter Your Number (1 to 5) or Press 5 to Exit: \"))\n",
    "        except ValueError:\n",
    "            print(\"Please Enter a Number between 1 to 5\")\n",
    "            continue\n",
    "        \n",
    "        if choice == 1:\n",
    "            Account = Account_Create()\n",
    "        elif choice == 2:\n",
    "            Account = deposit_function()\n",
    "        elif choice == 3:\n",
    "            Account = withdrawl_function(Account)\n",
    "        elif choice == 4:\n",
    "            Account = check_balance()\n",
    "        elif choice == 5:\n",
    "            print(f'Thanks for visiting Best Bank, I hope to see you again!')\n",
    "            break\n",
    "        else:\n",
    "            print(f'You pressed an Invalid Number, Please Try Again')\n",
    "\n",
    "# Call the display_mainmenu function to start the program.\n",
    "display_mainmenu()"
   ]
  },
  {
   "cell_type": "code",
   "execution_count": null,
   "id": "05f95c8d-f1b2-4ce8-b330-9da5ec44ea8e",
   "metadata": {},
   "outputs": [],
   "source": []
  }
 ],
 "metadata": {
  "kernelspec": {
   "display_name": "Python 3 (ipykernel)",
   "language": "python",
   "name": "python3"
  },
  "language_info": {
   "codemirror_mode": {
    "name": "ipython",
    "version": 3
   },
   "file_extension": ".py",
   "mimetype": "text/x-python",
   "name": "python",
   "nbconvert_exporter": "python",
   "pygments_lexer": "ipython3",
   "version": "3.12.7"
  }
 },
 "nbformat": 4,
 "nbformat_minor": 5
}
