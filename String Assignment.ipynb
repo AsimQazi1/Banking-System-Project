{
 "cells": [
  {
   "cell_type": "raw",
   "id": "ed4ac336-8b0e-4e3d-93b3-85d29381bbbb",
   "metadata": {},
   "source": [
    "1. Write a program that accepts a string from user. Your program should count and display number of\n",
    "vowels in that string."
   ]
  },
  {
   "cell_type": "code",
   "execution_count": 5,
   "id": "badae56b-82c7-4a87-94a3-219e4a87a1cc",
   "metadata": {},
   "outputs": [
    {
     "name": "stdin",
     "output_type": "stream",
     "text": [
      "Enter the Vowels aei\n"
     ]
    },
    {
     "name": "stdout",
     "output_type": "stream",
     "text": [
      "1\n",
      "2\n",
      "3\n"
     ]
    }
   ],
   "source": [
    "Characters = input('Enter the Vowels')\n",
    "vowels = \"aeiou\"\n",
    "count = 0\n",
    "for char in Characters:\n",
    "    if char in vowels:    \n",
    "        count +=1\n",
    "        print(count)"
   ]
  },
  {
   "cell_type": "raw",
   "id": "9d82cf6a-db92-455d-bc75-b03eff9f4b97",
   "metadata": {},
   "source": [
    "2. Write a program that reads a string from keyboard and display:\n",
    "* The number of uppercase letters in the string\n",
    "* The number of lowercase letters in the string\n",
    "* The number of digits in the string\n",
    "* The number of whitespace characters in the string"
   ]
  },
  {
   "cell_type": "code",
   "execution_count": 13,
   "id": "5ce983ad-e8b6-44df-a4dc-69e2686dd246",
   "metadata": {},
   "outputs": [
    {
     "name": "stdin",
     "output_type": "stream",
     "text": [
      "Enter the Strings asimQAzi 1236 5\n"
     ]
    },
    {
     "name": "stdout",
     "output_type": "stream",
     "text": [
      "the number of uppercase 2\n",
      "the number of lower case 6\n",
      "the number of digits 5\n",
      "the number of white space 2\n"
     ]
    }
   ],
   "source": [
    "user_input = (input(\"Enter the Strings\"))\n",
    "count_uppercase = 0\n",
    "count_lowercase = 0\n",
    "count_digits = 0\n",
    "count_whitespace = 0\n",
    "for char in user_input:\n",
    "    if char.isupper():\n",
    "        count_uppercase +=1\n",
    "    elif char.islower():\n",
    "        count_lowercase +=1\n",
    "    elif char.isdigit():\n",
    "        count_digits +=1\n",
    "    elif char.isspace():\n",
    "        count_whitespace +=1\n",
    "print(f'the number of uppercase {count_uppercase}')\n",
    "print(f'the number of lower case {count_lowercase}')\n",
    "print(f'the number of digits {count_digits}')\n",
    "print(f'the number of white space {count_whitespace}')"
   ]
  },
  {
   "cell_type": "raw",
   "id": "411ac568-2615-4075-ab71-ad8ba9273a0b",
   "metadata": {},
   "source": [
    "Write a Python program that accepts a string from user. Your program should create and display a\n",
    "new string where the first and last characters have been exchanged.\n",
    "For example if the user enters the string 'HELLO' then new string would be 'OELLH'"
   ]
  },
  {
   "cell_type": "code",
   "execution_count": 19,
   "id": "3dbe6fd0-7bbb-487d-9065-0f85c819b781",
   "metadata": {},
   "outputs": [
    {
     "name": "stdin",
     "output_type": "stream",
     "text": [
      "Enter a Strings Hello\n"
     ]
    },
    {
     "name": "stdout",
     "output_type": "stream",
     "text": [
      "oellH\n"
     ]
    }
   ],
   "source": [
    "String = input('Enter a Strings')\n",
    "New_String = String[-1]+String[1:-1]+String[0]\n",
    "print(f'{New_String}')"
   ]
  },
  {
   "cell_type": "raw",
   "id": "c25e03c0-6262-4b75-95ea-867234c669ea",
   "metadata": {},
   "source": [
    "4. Write a Python program that accepts a string from user. Your program should create a new string in\n",
    "reverse of first string and display it."
   ]
  },
  {
   "cell_type": "code",
   "execution_count": 25,
   "id": "cb53fc8d-6c84-451d-997e-3871c47a26b4",
   "metadata": {},
   "outputs": [
    {
     "name": "stdin",
     "output_type": "stream",
     "text": [
      "Enter the Strings AsimQazi\n"
     ]
    },
    {
     "name": "stdout",
     "output_type": "stream",
     "text": [
      "The Reverse Sring is izaQmisA\n"
     ]
    }
   ],
   "source": [
    "User = input('Enter the Strings')\n",
    "new_user = User [::-1]\n",
    "print(f'The Reverse Sring is {new_user}')"
   ]
  },
  {
   "cell_type": "raw",
   "id": "1c807354-424f-420b-8096-123a01839dcf",
   "metadata": {},
   "source": [
    "5. Write a Python program that accepts a string from user. Your program should create a new string by\n",
    "shifting one position to left.\n",
    "For example if the user enters the string 'examination 2021' then new string would be 'xamination\n",
    "2021e'"
   ]
  },
  {
   "cell_type": "code",
   "execution_count": 35,
   "id": "e82835b0-b858-4e3e-ac2b-9c7e02d8dabc",
   "metadata": {},
   "outputs": [
    {
     "name": "stdin",
     "output_type": "stream",
     "text": [
      "Enters the String examination 2021\n"
     ]
    },
    {
     "name": "stdout",
     "output_type": "stream",
     "text": [
      "xamination 2021e\n"
     ]
    }
   ],
   "source": [
    "String = input('Enters the String')\n",
    "len(String)\n",
    "New_String = String[1:16]+String[0]\n",
    "print(f'{New_String}')\n",
    "\n",
    "\n"
   ]
  },
  {
   "cell_type": "raw",
   "id": "a4225169-4d7a-4e29-bedd-b42b1b852bf3",
   "metadata": {},
   "source": [
    "6. Write a program that asks the user to input his name and print its initials. Assuming that the user\n",
    "always types first name, middle name and last name and does not include any unnecessary spaces.\n",
    "For example, if the user enters Ajay Kumar Garg the program should display A. K. G.\n",
    "Note:Don't use split() method"
   ]
  },
  {
   "cell_type": "code",
   "execution_count": 37,
   "id": "2b96a36e-ae35-4d64-83e0-3d0d523676c9",
   "metadata": {},
   "outputs": [
    {
     "name": "stdin",
     "output_type": "stream",
     "text": [
      "Enter the name Ajay Kumar Garg\n"
     ]
    },
    {
     "data": {
      "text/plain": [
       "15"
      ]
     },
     "execution_count": 37,
     "metadata": {},
     "output_type": "execute_result"
    }
   ],
   "source": [
    "name = input('Enter the name')\n",
    "len(name)"
   ]
  },
  {
   "cell_type": "code",
   "execution_count": 47,
   "id": "8dc1f2c4-7280-4f19-b686-9758bd67bf9c",
   "metadata": {},
   "outputs": [
    {
     "data": {
      "text/plain": [
       "('A', 'K', 'G')"
      ]
     },
     "execution_count": 47,
     "metadata": {},
     "output_type": "execute_result"
    }
   ],
   "source": [
    "name[0], name[5], name[11]"
   ]
  },
  {
   "cell_type": "raw",
   "id": "3ebdacb6-12dc-41c3-87a2-955490ee2b41",
   "metadata": {},
   "source": [
    "7. A palindrome is a string that reads the same backward as forward. For example, the words dad,\n",
    "madam and radar are all palindromes. Write a programs that determines whether the string is a\n",
    "palindrome.\n",
    "Note: do not use reverse() method"
   ]
  },
  {
   "cell_type": "code",
   "execution_count": 65,
   "id": "bf96652f-79b9-4146-ae50-470e667d71f2",
   "metadata": {},
   "outputs": [
    {
     "name": "stdin",
     "output_type": "stream",
     "text": [
      "Enter the Word madam\n"
     ]
    },
    {
     "name": "stdout",
     "output_type": "stream",
     "text": [
      "This word is palindrome\n"
     ]
    }
   ],
   "source": [
    "word = input('Enter the Word').lower()\n",
    "if word == word[::-1]:\n",
    "    print('This word is palindrome')\n",
    "else:\n",
    "    print('This word is not Palindrome')"
   ]
  },
  {
   "cell_type": "raw",
   "id": "5cf14b99-040c-41d6-82a7-1e9f3cff35ad",
   "metadata": {},
   "source": [
    "8. Write a program that display following output:\n",
    "SHIFT\n",
    "HIFTS\n",
    "IFTSH\n",
    "FTSHI\n",
    "TSHIF\n",
    "SHIFT\n"
   ]
  },
  {
   "cell_type": "code",
   "execution_count": 81,
   "id": "36e8f314-50b8-4385-8c04-553e60d2ddfc",
   "metadata": {},
   "outputs": [
    {
     "name": "stdin",
     "output_type": "stream",
     "text": [
      "Enter the Words SHIFT\n"
     ]
    },
    {
     "name": "stdout",
     "output_type": "stream",
     "text": [
      "HIFTS\n",
      "IFTSH\n",
      "FTSHI\n",
      "SHIFT\n"
     ]
    }
   ],
   "source": [
    "word = input('Enter the Words')\n",
    "\n",
    "print(word[1:]+word[:1])\n",
    "print(word[2:]+word[:2])\n",
    "print(word[3:]+word[:3])\n",
    "print (word)"
   ]
  },
  {
   "cell_type": "raw",
   "id": "980bde9c-d70d-4fc5-b2a6-d92008c8f81e",
   "metadata": {},
   "source": [
    "9. Write a program in python that accepts a string to setup a passwords. Your entered password must\n",
    "meet the following requirements:The password must be at least eight characters long.\n",
    "It must contain at least one uppercase letter.\n",
    "It must contain at least one lowercase letter.\n",
    "It must contain at least one numeric digit.\n",
    "Your program should should perform this validation"
   ]
  },
  {
   "cell_type": "code",
   "execution_count": 25,
   "id": "1d6548b5-e269-4d12-ab67-9008d21dcc52",
   "metadata": {},
   "outputs": [
    {
     "name": "stdin",
     "output_type": "stream",
     "text": [
      "Enter the Password AsimQazi1\n"
     ]
    },
    {
     "name": "stdout",
     "output_type": "stream",
     "text": [
      "Valid Password\n"
     ]
    }
   ],
   "source": [
    "password = input(\"Enter the Password\")\n",
    "if len(password) <8:\n",
    "    print('Password atleast 8 Characters Long')\n",
    "elif not any (char.isupper() for char in password):\n",
    "    print('Password must be atleast one Character is upper') \n",
    "elif not any(char.islower() for char in password):\n",
    "    print('Password must be atleast one Character is lower') \n",
    "elif not any(char.isdigit() for char in password):\n",
    "    print('Password must be atleast one Character is digit')\n",
    "    \n",
    "else:\n",
    "    print('Valid Password')"
   ]
  },
  {
   "cell_type": "code",
   "execution_count": 61,
   "id": "9abac9f1-acfc-41a7-81a5-565437b6c683",
   "metadata": {},
   "outputs": [
    {
     "name": "stdin",
     "output_type": "stream",
     "text": [
      "Enter the password Asimqazi123\n"
     ]
    },
    {
     "name": "stdout",
     "output_type": "stream",
     "text": [
      "Valid Password\n"
     ]
    }
   ],
   "source": [
    "def validation_password(password):\n",
    "    if len(password) <10:\n",
    "        return('Password atleast 10 Characters long')\n",
    "    if not any (char.isupper()<2 for char in password):\n",
    "        return('Password must be atleast 2 Character is upper')\n",
    "    if not any(char.islower() for char in password):\n",
    "        return('password must be atleast 2 Character is lower')\n",
    "    if not any (char.isdigit() for char in password):\n",
    "        return('Password must be ateast 2 Character is digit')\n",
    "    return('Valid Password')\n",
    "user = input('Enter the password')\n",
    "result=validation_password(user)\n",
    "print(result)\n",
    "\n"
   ]
  },
  {
   "cell_type": "code",
   "execution_count": null,
   "id": "533edc07-d8ef-428c-8fb5-01c412579c1f",
   "metadata": {},
   "outputs": [],
   "source": []
  }
 ],
 "metadata": {
  "kernelspec": {
   "display_name": "Python 3 (ipykernel)",
   "language": "python",
   "name": "python3"
  },
  "language_info": {
   "codemirror_mode": {
    "name": "ipython",
    "version": 3
   },
   "file_extension": ".py",
   "mimetype": "text/x-python",
   "name": "python",
   "nbconvert_exporter": "python",
   "pygments_lexer": "ipython3",
   "version": "3.12.7"
  }
 },
 "nbformat": 4,
 "nbformat_minor": 5
}
