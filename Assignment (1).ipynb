{
 "cells": [
  {
   "cell_type": "raw",
   "id": "4c620b65-aa25-43c7-831c-307eee5d086f",
   "metadata": {},
   "source": [
    "1) Using the python print function print any string value, integer value, boolean value, float value in single print command"
   ]
  },
  {
   "cell_type": "code",
   "execution_count": 89,
   "id": "ac1473af-59ec-4151-9479-5ad4e306a171",
   "metadata": {},
   "outputs": [
    {
     "name": "stdout",
     "output_type": "stream",
     "text": [
      "Asim 27 False 23.5\n"
     ]
    }
   ],
   "source": [
    "print(\"Asim\",27,False,23.5)"
   ]
  },
  {
   "cell_type": "raw",
   "id": "dfe0c51c-11af-4250-9ebf-4e72cedfe484",
   "metadata": {},
   "source": [
    "Using the python print function print hyphon(-) separated any string value, integer value, boolean value, float value in single print command"
   ]
  },
  {
   "cell_type": "code",
   "execution_count": 45,
   "id": "ca59b6c7-3c6a-4ab3-98f7-a34b7b56facf",
   "metadata": {},
   "outputs": [
    {
     "name": "stdout",
     "output_type": "stream",
     "text": [
      "asim-age 27-false-23.5\n"
     ]
    }
   ],
   "source": [
    "print(\"asim\", \"age 27\", \"false\", \"23.5\", sep=(\"-\"))"
   ]
  },
  {
   "cell_type": "raw",
   "id": "19025049-fbb1-4917-8dcf-435a40f45f31",
   "metadata": {},
   "source": [
    "Using the python print function print any string value, integer value, boolean value, float value in separate print command.\n",
    "But every value must be space separated and in single line"
   ]
  },
  {
   "cell_type": "code",
   "execution_count": 91,
   "id": "fdaf6e40-6043-486b-8cce-c7ac738e56a0",
   "metadata": {},
   "outputs": [
    {
     "name": "stdout",
     "output_type": "stream",
     "text": [
      "asim age 27 False 23.5\n"
     ]
    }
   ],
   "source": [
    "print(\"asim\", \"age 27\", False, \"23.5\", sep=(\" \"))"
   ]
  },
  {
   "cell_type": "raw",
   "id": "52822a61-6323-49dc-b1f4-bc96d95255bc",
   "metadata": {},
   "source": [
    "4) Can a python print function take no value to print???"
   ]
  },
  {
   "cell_type": "code",
   "execution_count": 49,
   "id": "730535aa-0e4e-44dd-94a0-cc7724ee88ee",
   "metadata": {},
   "outputs": [
    {
     "name": "stdout",
     "output_type": "stream",
     "text": [
      "\n"
     ]
    }
   ],
   "source": [
    "print()"
   ]
  },
  {
   "cell_type": "raw",
   "id": "8a737a85-3cff-467f-9e57-2ec65c0f4a69",
   "metadata": {},
   "source": [
    "Using the python print function print any string value, integer value, boolean value, float value in separate print command.\n",
    "But every value must be space separated and in single line"
   ]
  },
  {
   "cell_type": "code",
   "execution_count": 103,
   "id": "4ab71478-53ab-4ec0-82d5-3f3caff3c5d8",
   "metadata": {},
   "outputs": [
    {
     "name": "stdout",
     "output_type": "stream",
     "text": [
      "pakistan30True23.5\n"
     ]
    }
   ],
   "source": [
    "print (\"pakistan\", end=\"\")\n",
    "print (30, end=\"\")\n",
    "print (True, end=\"\")\n",
    "print (23.5)"
   ]
  },
  {
   "cell_type": "raw",
   "id": "384d5fdb-d37b-4e70-a9e3-4cc5c2cef8eb",
   "metadata": {},
   "source": [
    "\n",
    "    One of my friends name is Mr. Ahmed. He is 30 years old. He is a lawer by profession. He has done his bachelors in law in the year 2005. He is working with a reputable law firm 'The Himalya Associates' in Karachi since 2015. He is a handsome lawer with height of 5.10 feets and weight 70600g. His monthly income is Rs. 200k PKR.\n",
    "\n",
    "Note: Create variables from above text and also assign values from the text.\n"
   ]
  },
  {
   "cell_type": "code",
   "execution_count": 121,
   "id": "3169509c-766e-4f3f-bdb4-0c667b860468",
   "metadata": {},
   "outputs": [],
   "source": [
    "freind_name = (\"Mr.Ahmed\")\n",
    "age = (30)\n",
    "profession = (\"lawyer\")\n",
    "qualification = (\"law\")\n",
    "graduation_year = (2005)\n",
    "firm_name = (\"The Himalya Associates\")\n",
    "joining_date = (2015)\n",
    "height_f = (5.10)\n",
    "weight_g = (70600)\n",
    "monthly_income_pkr = (200000)"
   ]
  },
  {
   "cell_type": "code",
   "execution_count": 119,
   "id": "d2a4e3a6-36b2-45a6-8cc6-fb87e8ee36d1",
   "metadata": {},
   "outputs": [
    {
     "data": {
      "text/plain": [
       "2015"
      ]
     },
     "execution_count": 119,
     "metadata": {},
     "output_type": "execute_result"
    }
   ],
   "source": [
    "joining_date"
   ]
  },
  {
   "cell_type": "raw",
   "id": "b3cb0065-6094-4505-a756-fd25be3153c3",
   "metadata": {},
   "source": [
    "How many years has been to Mr. Ahmed after his bachelors degree? Create a variable that hold current year value and then subtract it from his passout year"
   ]
  },
  {
   "cell_type": "code",
   "execution_count": 169,
   "id": "ac1e0038-f672-4214-b8a1-fea1dece038a",
   "metadata": {},
   "outputs": [
    {
     "name": "stdout",
     "output_type": "stream",
     "text": [
      "19\n",
      " my freind Mr.Ahmed bachelors degree 19\n"
     ]
    }
   ],
   "source": [
    "current_year = (2024)\n",
    "degree_year = (current_year - graduation_year)\n",
    "print(degree_year)\n",
    "\n",
    "print(f\" my freind {freind_name} bachelors degree {degree_year}\") \n"
   ]
  },
  {
   "cell_type": "raw",
   "id": "d0039610-25c2-4309-b70a-190d315a895d",
   "metadata": {},
   "source": [
    "How many years has Mr. Ahmed been working with law firm 'The Himalya Associates'. Create necesary variables and print the correct number of years in working in the firm"
   ]
  },
  {
   "cell_type": "code",
   "execution_count": 173,
   "id": "0d6dde40-ecdc-4ab4-be12-46779571e660",
   "metadata": {},
   "outputs": [],
   "source": [
    "working_in_firm = (current_year - joining_date)"
   ]
  },
  {
   "cell_type": "code",
   "execution_count": 175,
   "id": "06f20086-647a-4962-90c5-aca05f8a6f1d",
   "metadata": {},
   "outputs": [
    {
     "data": {
      "text/plain": [
       "9"
      ]
     },
     "execution_count": 175,
     "metadata": {},
     "output_type": "execute_result"
    }
   ],
   "source": [
    "working_in_firm"
   ]
  },
  {
   "cell_type": "raw",
   "id": "175eb3b3-2ba6-46ea-b13f-ef3bb079f51c",
   "metadata": {},
   "source": [
    ")Convert the monthly income of Mr. Ahmed in dollars. Create necesary variables and print the income in dollars."
   ]
  },
  {
   "cell_type": "code",
   "execution_count": 129,
   "id": "ffabf910-ee9f-4c10-b3ce-dfd92fb85060",
   "metadata": {},
   "outputs": [],
   "source": [
    "dollar = 280"
   ]
  },
  {
   "cell_type": "code",
   "execution_count": 135,
   "id": "53141fc5-de7d-49fb-ac56-74982443103b",
   "metadata": {},
   "outputs": [
    {
     "name": "stdout",
     "output_type": "stream",
     "text": [
      "714.2857142857143\n"
     ]
    }
   ],
   "source": [
    "print(monthly_income_pkr / dollar)"
   ]
  },
  {
   "cell_type": "raw",
   "id": "97778bf1-e97c-4d16-a8ba-b4802fe6142f",
   "metadata": {},
   "source": [
    "Check if the income in dollars is a float or integer value. if it is float, re-write the code so that income gets converted in integer. print the income in integer type value"
   ]
  },
  {
   "cell_type": "code",
   "execution_count": 177,
   "id": "ad80898b-5b28-4733-9abd-94b8447c93f5",
   "metadata": {},
   "outputs": [],
   "source": [
    "income_in_dollar = (monthly_income_pkr // dollar)"
   ]
  },
  {
   "cell_type": "code",
   "execution_count": 145,
   "id": "614d254e-da1d-42f4-81f6-db679c8f6f05",
   "metadata": {},
   "outputs": [
    {
     "data": {
      "text/plain": [
       "714.2857142857143"
      ]
     },
     "execution_count": 145,
     "metadata": {},
     "output_type": "execute_result"
    }
   ],
   "source": [
    "income_in_dollar"
   ]
  },
  {
   "cell_type": "code",
   "execution_count": 179,
   "id": "02979697-ce63-430d-bf45-24c68c254b74",
   "metadata": {},
   "outputs": [
    {
     "name": "stdout",
     "output_type": "stream",
     "text": [
      "<class 'int'>\n"
     ]
    }
   ],
   "source": [
    "print(type(income_in_dollar))"
   ]
  },
  {
   "cell_type": "code",
   "execution_count": 151,
   "id": "9ca6f218-bd69-444c-8469-f262cf0d6b20",
   "metadata": {},
   "outputs": [
    {
     "name": "stdout",
     "output_type": "stream",
     "text": [
      "714\n"
     ]
    }
   ],
   "source": [
    "print(int(income_in_dollar))"
   ]
  },
  {
   "cell_type": "code",
   "execution_count": 153,
   "id": "9902b586-c827-463d-9897-80e2d6923017",
   "metadata": {},
   "outputs": [
    {
     "name": "stdout",
     "output_type": "stream",
     "text": [
      "<class 'float'>\n"
     ]
    }
   ],
   "source": [
    "print(type(income_in_dollar))"
   ]
  },
  {
   "cell_type": "raw",
   "id": "58431a7b-c5a0-4f11-a133-8857f4b13426",
   "metadata": {},
   "source": [
    "Print the type of Mr. Ahmed's weight. Convert the weight of Mr. Ahmed in kg so that weight must be a integer value"
   ]
  },
  {
   "cell_type": "code",
   "execution_count": 185,
   "id": "911ee21b-34bd-4c8d-858e-aa81c848bb0d",
   "metadata": {},
   "outputs": [],
   "source": [
    "weight_kg = (weight_g / 1000)"
   ]
  },
  {
   "cell_type": "code",
   "execution_count": 187,
   "id": "54593c82-5769-4e71-8f5e-6ae2dc1c88e8",
   "metadata": {},
   "outputs": [
    {
     "data": {
      "text/plain": [
       "70.6"
      ]
     },
     "execution_count": 187,
     "metadata": {},
     "output_type": "execute_result"
    }
   ],
   "source": [
    "weight_kg"
   ]
  },
  {
   "cell_type": "code",
   "execution_count": 195,
   "id": "b97f74b1-aa6c-4c3d-8817-c08d030d8bbc",
   "metadata": {},
   "outputs": [
    {
     "name": "stdout",
     "output_type": "stream",
     "text": [
      " my freind weight is 70.6\n"
     ]
    }
   ],
   "source": [
    "print (f\" my freind weight is {weight_kg}\")"
   ]
  },
  {
   "cell_type": "code",
   "execution_count": 199,
   "id": "91559863-f17b-4e42-8d8e-5d3d1fc491b0",
   "metadata": {},
   "outputs": [
    {
     "name": "stdout",
     "output_type": "stream",
     "text": [
      "70\n"
     ]
    }
   ],
   "source": [
    "print(int(weight_kg))"
   ]
  },
  {
   "cell_type": "code",
   "execution_count": 203,
   "id": "3939f768-115a-41ef-ae7b-db964a39d32e",
   "metadata": {},
   "outputs": [
    {
     "name": "stdout",
     "output_type": "stream",
     "text": [
      " my freind weight is 70\n"
     ]
    }
   ],
   "source": [
    "print (f\" my freind weight is {int(weight_kg)}\")"
   ]
  },
  {
   "cell_type": "raw",
   "id": "f1bc2d29-2be2-44ae-b8ce-994d4bb47df4",
   "metadata": {},
   "source": [
    "print the birth year Mr. Ahmed"
   ]
  },
  {
   "cell_type": "code",
   "execution_count": 205,
   "id": "0b9ededf-bfd9-41c1-b817-b0d6cba49aff",
   "metadata": {},
   "outputs": [],
   "source": [
    "birth_year = current_year - age"
   ]
  },
  {
   "cell_type": "code",
   "execution_count": 207,
   "id": "1644025c-3c95-4592-8ec2-36ae2d36cbdc",
   "metadata": {},
   "outputs": [
    {
     "data": {
      "text/plain": [
       "1994"
      ]
     },
     "execution_count": 207,
     "metadata": {},
     "output_type": "execute_result"
    }
   ],
   "source": [
    "birth_year"
   ]
  },
  {
   "cell_type": "code",
   "execution_count": 209,
   "id": "85abf838-38ae-43a7-9aa6-cd9b2d38ab22",
   "metadata": {},
   "outputs": [],
   "source": [
    "dob = 1994"
   ]
  },
  {
   "cell_type": "raw",
   "id": "734f5e3d-6c5b-423a-852b-48367b931949",
   "metadata": {},
   "source": [
    "Can Rs. 100 be divided equally among 6 students? HINT: % operator (modulo)"
   ]
  },
  {
   "cell_type": "code",
   "execution_count": 213,
   "id": "3dd0b394-c4aa-4854-ad5b-5dae241cede0",
   "metadata": {},
   "outputs": [
    {
     "data": {
      "text/plain": [
       "4"
      ]
     },
     "execution_count": 213,
     "metadata": {},
     "output_type": "execute_result"
    }
   ],
   "source": [
    "100%6"
   ]
  },
  {
   "cell_type": "code",
   "execution_count": null,
   "id": "4a3dbcf1-8062-4404-a4e6-185dd3b7edfb",
   "metadata": {},
   "outputs": [],
   "source": []
  }
 ],
 "metadata": {
  "kernelspec": {
   "display_name": "Python 3 (ipykernel)",
   "language": "python",
   "name": "python3"
  },
  "language_info": {
   "codemirror_mode": {
    "name": "ipython",
    "version": 3
   },
   "file_extension": ".py",
   "mimetype": "text/x-python",
   "name": "python",
   "nbconvert_exporter": "python",
   "pygments_lexer": "ipython3",
   "version": "3.12.7"
  }
 },
 "nbformat": 4,
 "nbformat_minor": 5
}
