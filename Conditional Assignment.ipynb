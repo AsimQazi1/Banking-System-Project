{
 "cells": [
  {
   "cell_type": "raw",
   "id": "2c3c050f-7d04-4e0b-9e7b-a41e0d1d0f35",
   "metadata": {},
   "source": [
    "1. Write a program that prompts the user to input a number and display if the number\n",
    "is even or odd"
   ]
  },
  {
   "cell_type": "code",
   "execution_count": 7,
   "id": "ebbf8d53-26fe-47d5-babf-a356005a75e1",
   "metadata": {},
   "outputs": [
    {
     "name": "stdin",
     "output_type": "stream",
     "text": [
      "Enter the number even or odd 6\n"
     ]
    },
    {
     "name": "stdout",
     "output_type": "stream",
     "text": [
      "This number is even\n"
     ]
    }
   ],
   "source": [
    "number = int(input('Enter the number even or odd'))\n",
    "if number %2==0:\n",
    "    print('This number is even')\n",
    "\n",
    "else:\n",
    "    print('This number is odd')"
   ]
  },
  {
   "cell_type": "raw",
   "id": "339cd917-426c-4ad7-9c29-b59f083540a5",
   "metadata": {},
   "source": [
    "2. Write a Python program that takes an age as input and determines whether a person\n",
    "is eligible to vote. If the age is 18 or above, print \"You are eligible to vote.\" Otherwise,\n",
    "print \"You are not eligible to vote yet.\"."
   ]
  },
  {
   "cell_type": "code",
   "execution_count": 9,
   "id": "91e245a1-fc9c-423a-a677-ffe446e4edc3",
   "metadata": {},
   "outputs": [
    {
     "name": "stdin",
     "output_type": "stream",
     "text": [
      "Enter your age 19\n"
     ]
    },
    {
     "name": "stdout",
     "output_type": "stream",
     "text": [
      "your age is 18 above you cast a vote\n"
     ]
    }
   ],
   "source": [
    "age = int(input('Enter your age'))\n",
    "if age >=18:\n",
    "    print('your age is 18 above you cast a vote')\n",
    "else:\n",
    "    print('you are not cast a vote')"
   ]
  },
  {
   "cell_type": "raw",
   "id": "1d5ee150-7c4d-43b0-9d6e-2b91c22f723c",
   "metadata": {},
   "source": [
    "3. Write a program that prompts the user to input two integers and outputs the largest"
   ]
  },
  {
   "cell_type": "code",
   "execution_count": 11,
   "id": "5e9668e5-a21f-449b-8f9e-f7f4bba23aa0",
   "metadata": {},
   "outputs": [
    {
     "name": "stdin",
     "output_type": "stream",
     "text": [
      "Enter the value of Number_1 8\n",
      "Enter the value of Number_2 10\n"
     ]
    },
    {
     "name": "stdout",
     "output_type": "stream",
     "text": [
      "the value of number_2 is grater then Number_1 10\n"
     ]
    }
   ],
   "source": [
    "num_1 = int(input('Enter the value of Number_1'))\n",
    "num_2 = int(input('Enter the value of Number_2'))\n",
    "if num_1 >= num_2:\n",
    "    print(f'the value of number_1 is grater then Number_2 {num_1}')\n",
    "\n",
    "else:\n",
    "    print(f'the value of number_2 is grater then Number_1 {num_2}')"
   ]
  },
  {
   "cell_type": "raw",
   "id": "707d2ece-05eb-4157-bfef-de9c5b49a2a4",
   "metadata": {},
   "source": [
    "4. Write a program that prompts the user to enter a number and determines whether it\n",
    "is positive, negative, or zero. The program should print \"Positive\" if the number is\n",
    "greater than 0, \"Negative\" if the number is less than 0, and \"Zero\" if the number is 0."
   ]
  },
  {
   "cell_type": "code",
   "execution_count": 19,
   "id": "3e7555c4-415d-48bf-91ba-b3cef1b48ac3",
   "metadata": {},
   "outputs": [
    {
     "name": "stdin",
     "output_type": "stream",
     "text": [
      "Enter the value of number_1 0\n"
     ]
    },
    {
     "name": "stdout",
     "output_type": "stream",
     "text": [
      "otherwise value of zero\n"
     ]
    }
   ],
   "source": [
    "number = int(input('Enter the value of number_1'))\n",
    "\n",
    "if number >0:\n",
    "    print(f'{number} this number is positive')\n",
    "elif number <0:\n",
    "    print(f'{number} this number is negative')\n",
    "\n",
    "else:\n",
    "    print('otherwise value of zero')"
   ]
  },
  {
   "cell_type": "raw",
   "id": "54ece550-adba-424e-a6de-a9592e738fd7",
   "metadata": {},
   "source": [
    "5. Write a program that prompts the user to enter their age and prints the\n",
    "corresponding age group. The program should use the following age groups:\n",
    "0-12: Child\n",
    "13-19: Teenager\n",
    "20-59: Adult\n",
    "60 and above: Senior Citizen"
   ]
  },
  {
   "cell_type": "code",
   "execution_count": 27,
   "id": "655ae2e1-d8be-459d-910a-72bb62a62283",
   "metadata": {},
   "outputs": [
    {
     "name": "stdin",
     "output_type": "stream",
     "text": [
      "Enter the value of Age 61\n"
     ]
    },
    {
     "name": "stdout",
     "output_type": "stream",
     "text": [
      "your age is 61 you count in Senior\n"
     ]
    }
   ],
   "source": [
    "age = int(input('Enter the value of Age'))\n",
    "if  age <=12:\n",
    "    print(f'your age is {age} you count in child')\n",
    "elif age <=19:\n",
    "    print(f'your age is {age} you count in Teenager')\n",
    "elif age <=59:\n",
    "    print(f'your age is {age} you count in Adult')\n",
    "else:\n",
    "    print (f'your age is {age} you count in Senior')"
   ]
  },
  {
   "cell_type": "raw",
   "id": "c4d51fd4-ea52-40a2-96e6-bd3f86630647",
   "metadata": {},
   "source": [
    "6. Write a program that prompts the user to input a number from 1 to 7. The program\n",
    "should display the corresponding day for the given number. For example, if the user\n",
    "types 1, the output should be Sunday. If the user types 7, the output should be\n",
    "Saturday. If the number is not between 1 to 7 user should get error message as shown\n",
    "in sample output."
   ]
  },
  {
   "cell_type": "code",
   "execution_count": 33,
   "id": "3d024e7e-552a-432b-93d4-c92663f93883",
   "metadata": {},
   "outputs": [
    {
     "name": "stdin",
     "output_type": "stream",
     "text": [
      "Enter the number of day 9\n"
     ]
    },
    {
     "name": "stdout",
     "output_type": "stream",
     "text": [
      "Error\n"
     ]
    }
   ],
   "source": [
    "number = int(input('Enter the number of day'))\n",
    "if number ==1:\n",
    "    print('today is sunday')\n",
    "elif number ==2:\n",
    "    print('Today is Monday')\n",
    "elif number ==3:\n",
    "    print('Today is Tuesday')\n",
    "elif number ==4:\n",
    "    print('Today is Wednesday')\n",
    "elif number ==5:\n",
    "    print('Today is Thursday')\n",
    "elif number ==6:\n",
    "    print('Today is Friday')\n",
    "elif number ==7:\n",
    "    print('Today is Saturday')\n",
    "else:\n",
    "    print('Error')\n"
   ]
  },
  {
   "cell_type": "raw",
   "id": "a6d1e901-f9d2-4aa2-a714-0ffb6317163e",
   "metadata": {},
   "source": [
    "7. Write a program that prompts the user to enter their weight (in kilograms) and height\n",
    "(in meters). The program should calculate the Body Mass Index (BMI) using the formula:\n",
    "BMI = weight / (height * height). The program should then classify the BMI into one of\n",
    "the following categories:\n",
    "less than 18.5 - Underweight\n",
    "BMI between 18.5 and 24.9 - Normal weight\n",
    "BMI between 25 and 29.9 - Overweight\n",
    "BMI 30 or greater - Obesity"
   ]
  },
  {
   "cell_type": "code",
   "execution_count": 43,
   "id": "943bf735-8e88-4ff7-97d5-ac93cdbce13e",
   "metadata": {},
   "outputs": [
    {
     "name": "stdin",
     "output_type": "stream",
     "text": [
      "Enter the value of Weight in Killograms 35\n",
      "Enter the value of Height in Meters 5.8\n"
     ]
    },
    {
     "name": "stdout",
     "output_type": "stream",
     "text": [
      "35.0 KG is Obesity\n"
     ]
    }
   ],
   "source": [
    "weight_kg = int(input('Enter the value of Weight in Killograms'))\n",
    "height_m = float(input('Enter the value of Height in Meters'))\n",
    "BMI = weight_kg / height_m*height_m\n",
    "if BMI <18.5:\n",
    "    print(f'{BMI} KG is underweight')\n",
    "elif BMI <24.9:\n",
    "    print(f'{BMI} KG is Normal Weight')\n",
    "elif BMI <29.9:\n",
    "    print(f'{BMI} KG is Over Weight')\n",
    "else:\n",
    "    print(f'{BMI} KG is Obesity')\n",
    "\n"
   ]
  },
  {
   "cell_type": "raw",
   "id": "3b459d0d-104c-4459-8ebe-f2a74212b5c4",
   "metadata": {},
   "source": [
    "8. The marks obtained by a student in 3 different subjects are input by the user. Your\n",
    "program should calculate the average of subjects and display the grade. The student\n",
    "gets a grade as per the following rules:\n",
    "Average Grade\n",
    "90-100 A\n",
    "80-89 B\n",
    "70-79 C\n",
    "60-69 D\n",
    "0-59 F"
   ]
  },
  {
   "cell_type": "code",
   "execution_count": 55,
   "id": "08393ed2-0262-484f-928d-08c58b65c1c4",
   "metadata": {},
   "outputs": [
    {
     "name": "stdin",
     "output_type": "stream",
     "text": [
      "Enter the numbers of Subject English 30\n",
      "Enter the numbers of Subject Math 20\n",
      "Enter the numbers of Subject Urdu 10\n"
     ]
    },
    {
     "name": "stdout",
     "output_type": "stream",
     "text": [
      "Otherwise Failed\n"
     ]
    }
   ],
   "source": [
    "sub_1 = int(input('Enter the numbers of Subject English'))\n",
    "sub_2 = int(input('Enter the numbers of Subject Math'))\n",
    "sub_3 = int(input('Enter the numbers of Subject Urdu'))\n",
    "obtained = sub_1+sub_2+sub_3\n",
    "total_marks = 300\n",
    "percentage = obtained/total_marks*100\n",
    "if percentage >=90:\n",
    "    print('Grade A')\n",
    "elif percentage >=80:\n",
    "    print('Grade B')\n",
    "elif percentage >=70:\n",
    "    print('Grade C')\n",
    "elif percentage >=60:\n",
    "    print('Grade D')\n",
    "else:\n",
    "    print('Otherwise Failed')"
   ]
  },
  {
   "cell_type": "raw",
   "id": "8e97ce85-5dcf-468c-9fb0-a34f2b1a9e48",
   "metadata": {},
   "source": [
    "9. The roots of the quadratic equation ax2 + bx + c = 0, a ≠ 0 are given by the following\n",
    "formula:\n",
    "In this formula, the term b2 - 4ac is called the discriminant. If b2 - 4ac = 0, then the\n",
    "equation has two equal roots.\n",
    "If b2 - 4ac > 0, the equation has two real roots. If b2 - 4ac < 0, the equation has two\n",
    "complex roots.\n",
    "Write a program that prompts the user to input the value of a (the coefficient of x2), b\n",
    "(the coefficient of x), and c (the constant term) and outputs the roots of the quadratic\n",
    "equation."
   ]
  },
  {
   "cell_type": "code",
   "execution_count": null,
   "id": "837795a8-019b-4bb0-aaf7-5af4e45cc8a7",
   "metadata": {},
   "outputs": [],
   "source": []
  },
  {
   "cell_type": "raw",
   "id": "c002def0-6ae9-47c3-9c2d-6fb82872ef95",
   "metadata": {},
   "source": [
    "10. Write a program that prompts the user to enter three numbers and sorts them in\n",
    "ascending order. The program should print the sorted numbers."
   ]
  },
  {
   "cell_type": "code",
   "execution_count": 59,
   "id": "17f43e0a-41c9-4e6c-b09c-109a4fb64a4f",
   "metadata": {},
   "outputs": [
    {
     "name": "stdin",
     "output_type": "stream",
     "text": [
      "Enter the value of Number_1. 10\n",
      "Enter the value of Number_2. 9\n",
      "Enter the value of Number_3. 6\n"
     ]
    },
    {
     "name": "stdout",
     "output_type": "stream",
     "text": [
      "The number in accending order.[6, 9, 10]\n"
     ]
    }
   ],
   "source": [
    "num_1 = int(input('Enter the value of Number_1.'))\n",
    "num_2 = int(input('Enter the value of Number_2.'))\n",
    "num_3 = int(input('Enter the value of Number_3.'))\n",
    "number = [num_1, num_2, num_3]\n",
    "number.sort()\n",
    "print(f'The number in accending order.{number}') \n"
   ]
  },
  {
   "cell_type": "raw",
   "id": "7eda0d57-52e1-4bce-82bb-dd168d5ab625",
   "metadata": {},
   "source": [
    "11. Write a program that prompts the user to input three integers and outputs the\n",
    "largest."
   ]
  },
  {
   "cell_type": "code",
   "execution_count": 61,
   "id": "c9940afd-87ec-4199-8ee2-a5bba5a31bf2",
   "metadata": {},
   "outputs": [
    {
     "name": "stdin",
     "output_type": "stream",
     "text": [
      "Enter the value of Number One 50\n",
      "Enter the value of Number Two 90\n",
      "Enter the value of Number Three 85\n"
     ]
    },
    {
     "name": "stdout",
     "output_type": "stream",
     "text": [
      "90 This Number of Largest\n"
     ]
    }
   ],
   "source": [
    "num_1 = int(input('Enter the value of Number One'))\n",
    "num_2 = int(input('Enter the value of Number Two'))\n",
    "num_3 = int(input('Enter the value of Number Three'))\n",
    "largest = max(num_1, num_2, num_3)\n",
    "print(f'{largest} This Number of Largest')"
   ]
  },
  {
   "cell_type": "raw",
   "id": "1260f93d-d291-4c50-8ff9-6da4ec1198b2",
   "metadata": {},
   "source": [
    "12. Write a program that prompts the user to input a character and determine the\n",
    "character is vowel or consonant."
   ]
  },
  {
   "cell_type": "code",
   "execution_count": 3,
   "id": "2a13133b-edb8-4572-9a03-ce1175f7bff1",
   "metadata": {},
   "outputs": [
    {
     "name": "stdin",
     "output_type": "stream",
     "text": [
      "Enter the value of Character e\n"
     ]
    },
    {
     "name": "stdout",
     "output_type": "stream",
     "text": [
      "This Character is Vowel\n"
     ]
    }
   ],
   "source": [
    "character = input('Enter the value of Character')\n",
    "if character == 'a':\n",
    "    print('This Alphabet is Vowel')\n",
    "elif character == 'e':\n",
    "    print('This Character is Vowel')\n",
    "elif character == 'i':\n",
    "    print('This Character is Vowel')\n",
    "elif character == 'o':\n",
    "    print('This Character is Vowel')\n",
    "elif character == 'u':\n",
    "    print('This Character is Vowel')\n",
    "else:\n",
    "    print('This Character is Consonant')"
   ]
  },
  {
   "cell_type": "raw",
   "id": "27109e5c-e840-4b1b-8c9f-3f101ecb9b23",
   "metadata": {},
   "source": [
    "13. Write a program that prompts the user to input a year and determine whether the\n",
    "year is a leap year or not.\n",
    "Leap Years are any year that can be evenly divided by 4. A year that is evenly divisible by\n",
    "100 is a leap year only if it is also evenly divisible by 400. Example:\n",
    "1992 Leap Year\n",
    "2000 Leap Year\n",
    "1900 NOT a Leap Year\n",
    "1995 NOT a Leap Year\n"
   ]
  },
  {
   "cell_type": "code",
   "execution_count": 25,
   "id": "5bd3980e-5543-46d5-9a90-93d11520be7b",
   "metadata": {},
   "outputs": [
    {
     "name": "stdin",
     "output_type": "stream",
     "text": [
      "Enter The Year 1995\n"
     ]
    },
    {
     "name": "stdout",
     "output_type": "stream",
     "text": [
      "This is Not Leap Year\n"
     ]
    }
   ],
   "source": [
    "year = int(input('Enter The Year'))\n",
    "if year %4==0 and year %100==0 or year %400==0:\n",
    "    print(f'This Year {year} is Leap Year')\n",
    "else:\n",
    "    print('This is Not Leap Year')"
   ]
  },
  {
   "cell_type": "raw",
   "id": "15165d98-1a1b-4f79-9849-135df32f30ff",
   "metadata": {},
   "source": [
    "14. Write a program that prompts the user to input number of calls and calculate the\n",
    "monthly telephone bills as per the following rule:\n",
    "Minimum Rs. 200 for up to 100 calls.\n",
    "Plus Rs. 0.60 per call for next 150 calls.\n",
    "Plus Rs. 0.50 per call for next 50 calls.\n",
    "Plus Rs. 0.40 per call for any call beyond 200 calls."
   ]
  },
  {
   "cell_type": "code",
   "execution_count": null,
   "id": "30b54060-5bd0-45d5-a9b9-d6ba740a0354",
   "metadata": {},
   "outputs": [],
   "source": []
  },
  {
   "cell_type": "code",
   "execution_count": 11,
   "id": "2121ea14-a64a-4532-a144-aa9167c4f2e0",
   "metadata": {},
   "outputs": [
    {
     "name": "stdin",
     "output_type": "stream",
     "text": [
      "Enter the value of Telephone Bill 100\n"
     ]
    },
    {
     "name": "stdout",
     "output_type": "stream",
     "text": [
      "100.0 This Amount is 100 Calls Bill\n"
     ]
    }
   ],
   "source": [
    "Calls = float(input('Enter the value of Telephone Bill'))\n",
    "Bill = 200\n",
    "if Tele_Bill >=100:\n",
    "    print(f'{Rs} This Amount is 100 Calls Bill')\n",
    "elif Tele_Bill >=200+0.60:\n",
    "    print(f'{Rs} This Amount is 150 Calls Bill')\n",
    "elif Tele_Bill >=200+0.50:\n",
    "    print(f'{Rs} This Amount is 50 Calls Bil')\n",
    "else:\n",
    "    print(f'{Rs} for any Call Beyond 200 Calls')"
   ]
  },
  {
   "cell_type": "code",
   "execution_count": null,
   "id": "469c4703-5767-4baa-b50c-69f1776a9202",
   "metadata": {},
   "outputs": [],
   "source": []
  }
 ],
 "metadata": {
  "kernelspec": {
   "display_name": "Python 3 (ipykernel)",
   "language": "python",
   "name": "python3"
  },
  "language_info": {
   "codemirror_mode": {
    "name": "ipython",
    "version": 3
   },
   "file_extension": ".py",
   "mimetype": "text/x-python",
   "name": "python",
   "nbconvert_exporter": "python",
   "pygments_lexer": "ipython3",
   "version": "3.12.7"
  }
 },
 "nbformat": 4,
 "nbformat_minor": 5
}
