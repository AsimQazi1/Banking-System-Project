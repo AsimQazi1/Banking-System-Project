{
 "cells": [
  {
   "cell_type": "code",
   "execution_count": 9,
   "id": "c7a43156-3f5f-4c71-962f-de0757f09b75",
   "metadata": {},
   "outputs": [
    {
     "name": "stdout",
     "output_type": "stream",
     "text": [
      "\n",
      "1. Open an Account\n",
      "2. Deposit Money\n",
      "3. Withdraw Money\n",
      "4. Check Balance\n",
      "5. Transfer Money\n",
      "6. View Transaction Statement\n",
      "7. Admin Menu\n",
      "0. Exit\n"
     ]
    },
    {
     "name": "stdin",
     "output_type": "stream",
     "text": [
      "Enter your choice:  1\n",
      "Enter your name:  Asim Qazi\n"
     ]
    },
    {
     "name": "stdout",
     "output_type": "stream",
     "text": [
      "Account created! Account Number: 1\n",
      "\n",
      "1. Open an Account\n",
      "2. Deposit Money\n",
      "3. Withdraw Money\n",
      "4. Check Balance\n",
      "5. Transfer Money\n",
      "6. View Transaction Statement\n",
      "7. Admin Menu\n",
      "0. Exit\n"
     ]
    },
    {
     "name": "stdin",
     "output_type": "stream",
     "text": [
      "Enter your choice:  2\n",
      "Enter your account number:  1\n",
      "Enter amount to deposit:  2000\n"
     ]
    },
    {
     "name": "stdout",
     "output_type": "stream",
     "text": [
      "Deposit successful!\n",
      "\n",
      "1. Open an Account\n",
      "2. Deposit Money\n",
      "3. Withdraw Money\n",
      "4. Check Balance\n",
      "5. Transfer Money\n",
      "6. View Transaction Statement\n",
      "7. Admin Menu\n",
      "0. Exit\n"
     ]
    },
    {
     "name": "stdin",
     "output_type": "stream",
     "text": [
      "Enter your choice:  3\n",
      "Enter your account number:  1\n",
      "Enter amount to withdraw:  200\n"
     ]
    },
    {
     "name": "stdout",
     "output_type": "stream",
     "text": [
      "Withdrawal successful!\n",
      "\n",
      "1. Open an Account\n",
      "2. Deposit Money\n",
      "3. Withdraw Money\n",
      "4. Check Balance\n",
      "5. Transfer Money\n",
      "6. View Transaction Statement\n",
      "7. Admin Menu\n",
      "0. Exit\n"
     ]
    },
    {
     "name": "stdin",
     "output_type": "stream",
     "text": [
      "Enter your choice:  4\n",
      "Enter your account number:  1\n"
     ]
    },
    {
     "name": "stdout",
     "output_type": "stream",
     "text": [
      "Current balance: 1800.0\n",
      "\n",
      "1. Open an Account\n",
      "2. Deposit Money\n",
      "3. Withdraw Money\n",
      "4. Check Balance\n",
      "5. Transfer Money\n",
      "6. View Transaction Statement\n",
      "7. Admin Menu\n",
      "0. Exit\n"
     ]
    },
    {
     "name": "stdin",
     "output_type": "stream",
     "text": [
      "Enter your choice:  5\n",
      "Enter sender account number:  2\n",
      "Enter receiver account number:  1\n",
      "Enter amount to transfer:  1000\n"
     ]
    },
    {
     "name": "stdout",
     "output_type": "stream",
     "text": [
      "One or both accounts not found.\n",
      "\n",
      "1. Open an Account\n",
      "2. Deposit Money\n",
      "3. Withdraw Money\n",
      "4. Check Balance\n",
      "5. Transfer Money\n",
      "6. View Transaction Statement\n",
      "7. Admin Menu\n",
      "0. Exit\n"
     ]
    },
    {
     "name": "stdin",
     "output_type": "stream",
     "text": [
      "Enter your choice:  6\n",
      "Enter your account number:  1\n"
     ]
    },
    {
     "name": "stdout",
     "output_type": "stream",
     "text": [
      "Account Statement for Asim Qazi, Account Number: 1\n",
      "Deposited 2000.0\n",
      "Withdrawn 200.0\n",
      "\n",
      "1. Open an Account\n",
      "2. Deposit Money\n",
      "3. Withdraw Money\n",
      "4. Check Balance\n",
      "5. Transfer Money\n",
      "6. View Transaction Statement\n",
      "7. Admin Menu\n",
      "0. Exit\n"
     ]
    },
    {
     "name": "stdin",
     "output_type": "stream",
     "text": [
      "Enter your choice:  6\n",
      "Enter your account number:  1\n"
     ]
    },
    {
     "name": "stdout",
     "output_type": "stream",
     "text": [
      "Account Statement for Asim Qazi, Account Number: 1\n",
      "Deposited 2000.0\n",
      "Withdrawn 200.0\n",
      "\n",
      "1. Open an Account\n",
      "2. Deposit Money\n",
      "3. Withdraw Money\n",
      "4. Check Balance\n",
      "5. Transfer Money\n",
      "6. View Transaction Statement\n",
      "7. Admin Menu\n",
      "0. Exit\n"
     ]
    },
    {
     "name": "stdin",
     "output_type": "stream",
     "text": [
      "Enter your choice:  7\n"
     ]
    },
    {
     "name": "stdout",
     "output_type": "stream",
     "text": [
      "\n",
      "1. View Total Deposits\n",
      "2. View Total Accounts\n"
     ]
    },
    {
     "name": "stdin",
     "output_type": "stream",
     "text": [
      "Enter admin option:  3\n"
     ]
    },
    {
     "name": "stdout",
     "output_type": "stream",
     "text": [
      "\n",
      "1. Open an Account\n",
      "2. Deposit Money\n",
      "3. Withdraw Money\n",
      "4. Check Balance\n",
      "5. Transfer Money\n",
      "6. View Transaction Statement\n",
      "7. Admin Menu\n",
      "0. Exit\n"
     ]
    },
    {
     "name": "stdin",
     "output_type": "stream",
     "text": [
      "Enter your choice:  0\n"
     ]
    },
    {
     "name": "stdout",
     "output_type": "stream",
     "text": [
      "Exiting...\n"
     ]
    }
   ],
   "source": [
    "class bank_account:\n",
    "    def __init__(self, account_number, account_holder, balance=0):\n",
    "        self.account_number = account_number\n",
    "        self.account_holder = account_holder\n",
    "        self.balance = balance\n",
    "        self.transaction = []\n",
    "\n",
    "    def deposit_money(self, amount):\n",
    "        self.balance += amount\n",
    "        self.transaction.append(f\"Deposited {amount}\")\n",
    "\n",
    "    def withdraw_money(self, amount):\n",
    "        if self.balance >= amount:\n",
    "            self.balance -= amount\n",
    "            self.transaction.append(f\"Withdrawn {amount}\")\n",
    "        else:\n",
    "            print(\"Your balance is insufficient.\")\n",
    "\n",
    "    def check_balance(self):\n",
    "        return self.balance\n",
    "\n",
    "    def print_statement(self):\n",
    "        print(f\"Account Statement for {self.account_holder}, Account Number: {self.account_number}\")\n",
    "        for transaction in self.transaction:\n",
    "            print(transaction)\n",
    "\n",
    "\n",
    "class define_Bank:\n",
    "    def __init__(self):\n",
    "        self.accounts = {}\n",
    "\n",
    "    def open_account(self, account_holder):\n",
    "        account_number = len(self.accounts) + 1  # Create a unique account number\n",
    "        new_account = bank_account(account_number, account_holder)\n",
    "        self.accounts[account_number] = new_account\n",
    "        return new_account\n",
    "\n",
    "    def get_account(self, account_number):\n",
    "        return self.accounts.get(account_number)\n",
    "\n",
    "    def transfer(self, sender_acc_number, receiver_acc_number, amount):\n",
    "        sender_account = self.get_account(sender_acc_number)\n",
    "        receiver_account = self.get_account(receiver_acc_number)\n",
    "\n",
    "        if sender_account and receiver_account:\n",
    "            if sender_account.check_balance() >= amount:\n",
    "                sender_account.withdraw_money(amount)\n",
    "                receiver_account.deposit_money(amount)\n",
    "                sender_account.transaction.append(f\"Transferred {amount} to {receiver_acc_number}\")\n",
    "                receiver_account.transaction.append(f\"Received {amount} from {sender_acc_number}\")\n",
    "            else:\n",
    "                print(\"Your balance is insufficient.\")\n",
    "        else:\n",
    "            print(\"One or Both Accounts not Found.\")\n",
    "\n",
    "    def admin_check_total_deposit(self):\n",
    "        total_deposit = sum(account.check_balance() for account in self.accounts.values())\n",
    "        return total_deposit\n",
    "\n",
    "    def admin_check_total_accounts(self):\n",
    "        return len(self.accounts)\n",
    "\n",
    "\n",
    "def main():\n",
    "    bank = define_Bank()\n",
    "\n",
    "    while True:\n",
    "        print(\"\\n1. Open an Account\")\n",
    "        print(\"2. Deposit Money\")\n",
    "        print(\"3. Withdraw Money\")\n",
    "        print(\"4. Check Balance\")\n",
    "        print(\"5. Transfer Money\")\n",
    "        print(\"6. View Transaction Statement\")\n",
    "        print(\"7. Admin Menu\")\n",
    "        print(\"0. Exit\")\n",
    "\n",
    "        choice = int(input(\"Enter your choice: \"))\n",
    "\n",
    "        if choice == 1:\n",
    "            name = input(\"Enter your name: \")\n",
    "            account = bank.open_account(name)\n",
    "            print(f\"Account created! Account Number: {account.account_number}\")\n",
    "\n",
    "        elif choice == 2:\n",
    "            account_number = int(input(\"Enter your account number: \"))\n",
    "            amount = float(input(\"Enter amount to deposit: \"))\n",
    "            account = bank.get_account(account_number)\n",
    "            if account:\n",
    "                account.deposit_money(amount)\n",
    "                print(\"Deposit successful!\")\n",
    "            else:\n",
    "                print(\"Account not found.\")\n",
    "\n",
    "        elif choice == 3:\n",
    "            account_number = int(input(\"Enter your account number: \"))\n",
    "            amount = float(input(\"Enter amount to withdraw: \"))\n",
    "            account = bank.get_account(account_number)\n",
    "            if account:\n",
    "                account.withdraw_money(amount)\n",
    "                print(\"Withdrawal successful!\")\n",
    "            else:\n",
    "                print(\"Account not found.\")\n",
    "\n",
    "        elif choice == 4:\n",
    "            account_number = int(input(\"Enter your account number: \"))\n",
    "            account = bank.get_account(account_number)\n",
    "            if account:\n",
    "                print(f\"Current balance: {account.check_balance()}\")\n",
    "            else:\n",
    "                print(\"Account not found.\")\n",
    "\n",
    "        elif choice == 5:\n",
    "            sender_acc_number = int(input(\"Enter sender account number: \"))\n",
    "            receiver_acc_number = int(input(\"Enter receiver account number: \"))\n",
    "            amount = float(input(\"Enter amount to transfer: \"))\n",
    "            bank.transfer(sender_acc_number, receiver_acc_number, amount)\n",
    "\n",
    "        elif choice == 6:\n",
    "            account_number = int(input(\"Enter your account number: \"))\n",
    "            account = bank.get_account(account_number)\n",
    "            if account:\n",
    "                account.print_statement()\n",
    "            else:\n",
    "                print(\"Account not found.\")\n",
    "\n",
    "        elif choice == 7:\n",
    "            print(\"\\n1. View Total Deposits\")\n",
    "            print(\"2. View Total Accounts\")\n",
    "            admin_choice = int(input(\"Enter admin option: \"))\n",
    "\n",
    "            if admin_choice == 1:\n",
    "                print(f\"Total Deposits: {bank.admin_check_total_deposit()}\")\n",
    "            elif admin_choice == 2:\n",
    "                print(f\"Total Accounts: {bank.admin_check_total_accounts()}\")\n",
    "\n",
    "        elif choice == 0:\n",
    "            print(\"Exiting...\")\n",
    "            break\n",
    "        else:\n",
    "            print(\"Invalid choice. Please try again.\")\n",
    "\n",
    "\n",
    "# Call the Main Menu\n",
    "if __name__ == \"__main__\":\n",
    "    main()\n",
    "\n",
    "        "
   ]
  },
  {
   "cell_type": "code",
   "execution_count": null,
   "id": "1e951b94-67e7-4b6a-a0e2-e34f965a1fad",
   "metadata": {},
   "outputs": [],
   "source": []
  }
 ],
 "metadata": {
  "kernelspec": {
   "display_name": "Python 3 (ipykernel)",
   "language": "python",
   "name": "python3"
  },
  "language_info": {
   "codemirror_mode": {
    "name": "ipython",
    "version": 3
   },
   "file_extension": ".py",
   "mimetype": "text/x-python",
   "name": "python",
   "nbconvert_exporter": "python",
   "pygments_lexer": "ipython3",
   "version": "3.12.7"
  }
 },
 "nbformat": 4,
 "nbformat_minor": 5
}
