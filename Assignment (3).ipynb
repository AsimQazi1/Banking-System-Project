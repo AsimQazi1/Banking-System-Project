{
 "cells": [
  {
   "cell_type": "raw",
   "id": "d738f90f-8089-4870-9923-aa93e564938f",
   "metadata": {},
   "source": [
    "Discounts and Pricing\n",
    "Check Discount Eligibility\n",
    "Write a program to check if a customer is eligible for a discount. If the total purchase is more than $100, apply a 10% discount and display the final price. Otherwise, display the total price as it is.\n"
   ]
  },
  {
   "cell_type": "code",
   "execution_count": 9,
   "id": "b847114c-e301-4c97-ab3b-e494996d8e60",
   "metadata": {},
   "outputs": [
    {
     "name": "stdin",
     "output_type": "stream",
     "text": [
      "Enter the total purchase amount 101\n"
     ]
    },
    {
     "name": "stdout",
     "output_type": "stream",
     "text": [
      "total purchase amount101\n",
      "discount 10.100000000000001\n",
      "the amount after discount 90.9\n"
     ]
    }
   ],
   "source": [
    "total_purchase = int(input(\"Enter the total purchase amount\"))\n",
    "if total_purchase >100:\n",
    "    discount = total_purchase *0.10\n",
    "    print (f'total purchase amount{total_purchase}')\n",
    "    print (f'discount {discount}')\n",
    "    print (f'the amount after discount {total_purchase - discount}')\n",
    "\n",
    "else:\n",
    "    print(f'the payable amount')"
   ]
  },
  {
   "cell_type": "raw",
   "id": "d8545fb2-175d-4068-9ae5-8eb084835235",
   "metadata": {},
   "source": [
    "Calculate Bulk Discount\n",
    "If a customer buys more than 5 items, apply a 15% discount on the total price. \n",
    "Otherwise, no discount is applied. Display the total price.\n"
   ]
  },
  {
   "cell_type": "code",
   "execution_count": 17,
   "id": "df3b0598-c9c9-428a-96b4-7530babb740f",
   "metadata": {},
   "outputs": [
    {
     "name": "stdin",
     "output_type": "stream",
     "text": [
      "Enter the quantity of item 6\n"
     ]
    },
    {
     "name": "stdout",
     "output_type": "stream",
     "text": [
      "Quantity of items 6\n",
      "Discount Value 0.8999999999999999\n",
      "the value of after discount 5.1\n"
     ]
    }
   ],
   "source": [
    "items = int(input(\"Enter the quantity of item\"))\n",
    "if items >5:\n",
    "    discount = items*.15\n",
    "    print(f\"Quantity of items {items}\")\n",
    "    print(f\"Discount Value {discount}\")\n",
    "    print(f\"the value of after discount {items - discount}\")\n",
    "\n",
    "else:\n",
    "    print(f\"sorry you have dnt achive a discount\")"
   ]
  },
  {
   "cell_type": "raw",
   "id": "80631a6f-aed7-4d4d-bcfb-369a73c9ff1f",
   "metadata": {},
   "source": [
    "Membership Discount\n",
    "Check if the customer is a member (is_member = True). Members get a 20% discount; non-members get a 5% discount.\n",
    "Calculate and print the discounted price.\n"
   ]
  },
  {
   "cell_type": "code",
   "execution_count": 23,
   "id": "4209fa57-04d9-494a-81a6-e9067a7885d4",
   "metadata": {},
   "outputs": [
    {
     "name": "stdin",
     "output_type": "stream",
     "text": [
      "Enter the price of items 10000\n",
      "Coustomer is a member y\n"
     ]
    },
    {
     "name": "stdout",
     "output_type": "stream",
     "text": [
      "coustomer is a member so get 20% discount 2000.0\n"
     ]
    }
   ],
   "source": [
    "price = int(input(\"Enter the price of items\"))\n",
    "is_member = input(\"Coustomer is a member\")\n",
    "if is_member =='y':\n",
    "    discount = price*.20\n",
    "    print(f'coustomer is a member so get 20% discount {discount}')\n",
    "\n",
    "else:\n",
    "    print(f'if coustomer is not a member so get a 5% {discount}')"
   ]
  },
  {
   "cell_type": "raw",
   "id": "a5fcac59-642a-4636-8b42-6f2d830322e6",
   "metadata": {},
   "source": [
    "Seasonal Sale\n",
    "If today is a holiday (is_holiday = True), apply a 25% discount; otherwise, \n",
    "apply a 10% discount. Calculate the price after discount.\n"
   ]
  },
  {
   "cell_type": "code",
   "execution_count": 3,
   "id": "ab57934a-8519-4940-b621-958bd3789b65",
   "metadata": {},
   "outputs": [
    {
     "name": "stdin",
     "output_type": "stream",
     "text": [
      "Enter the price your item 10000\n",
      "today is holiday y\n"
     ]
    },
    {
     "name": "stdout",
     "output_type": "stream",
     "text": [
      "today is holiday apply a 25% discount 7500.0\n"
     ]
    }
   ],
   "source": [
    "price = int(input('Enter the price your item'))\n",
    "is_holiday = input('today is holiday')\n",
    "if is_holiday =='y':\n",
    "    discount_holiday = price *.25\n",
    "    print(f'today is holiday apply a 25% discount {price - discount_holiday}')\n",
    "\n",
    "else:\n",
    "    non_holiday = price *.10\n",
    "    print(f'tday is non holiday apply a 10% discount {price - non_holiday}')\n",
    "\n"
   ]
  },
  {
   "cell_type": "raw",
   "id": "0f18cab8-1519-4378-9ba3-465b478e50dd",
   "metadata": {},
   "source": [
    "Buy-One-Get-One-Free\n",
    "If a customer buys an even number of items, they get half of them for free. Otherwise, they pay for all. Calculate the number of items the customer has to pay for.\n"
   ]
  },
  {
   "cell_type": "code",
   "execution_count": 35,
   "id": "10e82598-7069-494a-9ac3-4de48f209b41",
   "metadata": {},
   "outputs": [
    {
     "name": "stdin",
     "output_type": "stream",
     "text": [
      "calculate the number of items 3\n"
     ]
    },
    {
     "name": "stdout",
     "output_type": "stream",
     "text": [
      "you pay to full\n"
     ]
    }
   ],
   "source": [
    "no_items = int(input('calculate the number of items'))\n",
    "if no_items %2==0:\n",
    "    print(f'you pay to half')\n",
    "\n",
    "else:\n",
    "    print(f'you pay to full')\n",
    "               "
   ]
  },
  {
   "cell_type": "raw",
   "id": "5b02c430-7ddf-4a44-a9c7-466ad5b1a68b",
   "metadata": {},
   "source": [
    "Sales Tax\n",
    "If the price of an item is greater than $500, apply a luxury tax of 15%. Otherwise, \n",
    "apply a standard tax of 8%. Display the total price after tax.\n"
   ]
  },
  {
   "cell_type": "code",
   "execution_count": 43,
   "id": "aaafcf1d-4b8f-4940-80f6-987b961778fc",
   "metadata": {},
   "outputs": [
    {
     "name": "stdin",
     "output_type": "stream",
     "text": [
      "Enter the price of an items 600\n"
     ]
    },
    {
     "name": "stdout",
     "output_type": "stream",
     "text": [
      "you have luxury tax 510.0\n"
     ]
    }
   ],
   "source": [
    "item_price = int(input('Enter the price of an items'))\n",
    "if item_price >500:\n",
    "    luxury_tax = item_price *.15\n",
    "    print(f'you have luxury tax {item_price - luxury_tax}')\n",
    "else:\n",
    "    standard_tax = item_price *.8\n",
    "    print(f'your item is less than 500')\n",
    "    \n",
    "\n"
   ]
  },
  {
   "cell_type": "raw",
   "id": "d39e29b7-92c7-45a5-8709-f254a4efb7c6",
   "metadata": {},
   "source": [
    "Income Tax\n",
    "If a person's annual income is above $50,000, they pay 20% tax. Otherwise, \n",
    "they pay 10%. Calculate and display the tax amount.\n"
   ]
  },
  {
   "cell_type": "code",
   "execution_count": 7,
   "id": "ff8b2149-9e41-4959-b264-81a017af29bd",
   "metadata": {},
   "outputs": [
    {
     "name": "stdin",
     "output_type": "stream",
     "text": [
      "Enter the annual income value 60000\n"
     ]
    },
    {
     "name": "stdout",
     "output_type": "stream",
     "text": [
      " you pay tax 20% 48000.0\n"
     ]
    }
   ],
   "source": [
    "annual_income = int(input('Enter the annual income value'))\n",
    "if annual_income >50000:\n",
    "    tax = annual_income *.20\n",
    "    print(f' you pay tax 20% {annual_income - tax}')\n",
    "else:\n",
    "    tax = annual_income *.10\n",
    "    print(f'you pay tax 10% {annual_income - tax}')"
   ]
  },
  {
   "cell_type": "raw",
   "id": "538a5e34-df4a-4949-8716-e82942ca28ed",
   "metadata": {},
   "source": [
    "Tax Bracket\n",
    "Write a program to categorize a person into tax brackets:\n",
    "Income < $30,000: \"Low Tax\"\n",
    "$30,000 ≤ Income < $100,000: \"Medium Tax\"\n",
    "Income ≥ $100,000: \"High Tax"
   ]
  },
  {
   "cell_type": "code",
   "execution_count": 31,
   "id": "e008f6a7-d0a4-43cb-97f4-7738e532b170",
   "metadata": {},
   "outputs": [
    {
     "name": "stdin",
     "output_type": "stream",
     "text": [
      "Enter the value of income 120000\n"
     ]
    },
    {
     "name": "stdout",
     "output_type": "stream",
     "text": [
      "Hight Tax\n"
     ]
    }
   ],
   "source": [
    "income = int(input(\"Enter the value of income\"))\n",
    "if income <30000:\n",
    "    print(f'Low Tax')\n",
    "elif income <100000:\n",
    "    print(f'Medium Tax')\n",
    "\n",
    "else: \n",
    "    print(f'Hight Tax')"
   ]
  },
  {
   "cell_type": "raw",
   "id": "535210cd-f6b1-4ec0-9ae0-66d7c6b06a40",
   "metadata": {},
   "source": [
    "VAT Calculation\n",
    "If the item is marked as essential (is_essential = True), \n",
    "apply a VAT of 5%. Otherwise, apply a VAT of 12%. Display the final price."
   ]
  },
  {
   "cell_type": "code",
   "execution_count": 29,
   "id": "eafa5aaa-4337-494e-99b6-7127e520f28b",
   "metadata": {},
   "outputs": [
    {
     "name": "stdin",
     "output_type": "stream",
     "text": [
      "enter the items chocolate\n"
     ]
    },
    {
     "name": "stdout",
     "output_type": "stream",
     "text": [
      "if the item is not marked is esential so apply a vat 12%\n"
     ]
    }
   ],
   "source": [
    "easy_load = {\"charger\":200, \"usb\":500, \"data cabale\":250, \"hands free\":300}\n",
    "item = input('enter the items')\n",
    "if item in easy_load:\n",
    "    price = easy_load[item]\n",
    "    vat = price*.5\n",
    "    print('if the item is marked as esential so apply a vat 5%')\n",
    "\n",
    "else:\n",
    "    Vat = price*.12\n",
    "    print('if the item is not marked is esential so apply a vat 12%')\n",
    "    \n",
    "    \n"
   ]
  },
  {
   "cell_type": "raw",
   "id": "7b871df9-7ca7-4909-92e1-44ba0b8d4dc7",
   "metadata": {},
   "source": [
    "Tax-Free Day\n",
    "If today is a tax-free day (tax_free = True), \n",
    "display the original price. Otherwise, add a 7% tax.\n"
   ]
  },
  {
   "cell_type": "code",
   "execution_count": 15,
   "id": "fe9c13f3-4c43-4221-8df0-a882c87a445a",
   "metadata": {},
   "outputs": [
    {
     "name": "stdin",
     "output_type": "stream",
     "text": [
      "The value of Price 10000\n",
      "The day of tax free day is Y/N n\n"
     ]
    },
    {
     "name": "stdout",
     "output_type": "stream",
     "text": [
      "sorry today is not a tax day 10700.0\n"
     ]
    }
   ],
   "source": [
    "price = int(input(\"The value of Price\"))\n",
    "tax_free = input('The day of tax free day is Y/N')\n",
    "if tax_free =='y':\n",
    "     print(f'today is a free tax day {price}')\n",
    "\n",
    "else:\n",
    "    non_tax = price*.07\n",
    "    print(f'sorry today is not a tax day {price + non_tax}')\n"
   ]
  },
  {
   "cell_type": "raw",
   "id": "14fd7be9-5152-40dd-a2ec-9c8f35d9879b",
   "metadata": {},
   "source": [
    "Shopping and Billing\n",
    "Free Shipping\n",
    "If the total purchase amount is more than $50, offer free shipping; otherwise, \n",
    "charge $5 for shipping. Display the total amount including shipping.\n"
   ]
  },
  {
   "cell_type": "code",
   "execution_count": 19,
   "id": "b8e6d3b4-c5e2-4040-9da3-60cd157f2b57",
   "metadata": {},
   "outputs": [
    {
     "name": "stdin",
     "output_type": "stream",
     "text": [
      "The value of purchase amount 40\n"
     ]
    },
    {
     "name": "stdout",
     "output_type": "stream",
     "text": [
      "sorry plzz you paid a full amount of shipping Rs. 45\n"
     ]
    }
   ],
   "source": [
    "purchase_amount = int(input(\"The value of purchase amount\"))\n",
    "if purchase_amount >50:\n",
    "    print(f\"Congrats you get a free shipping of Rs{purchase_amount}\")\n",
    "\n",
    "else:\n",
    "    extra_charges = 5\n",
    "    final_price = purchase_amount + extra_charges\n",
    "    print(f\"sorry plzz you paid a full amount of shipping Rs. {final_price}\")\n"
   ]
  },
  {
   "cell_type": "raw",
   "id": "c779ee58-2a97-4568-bfb7-e3baa7b0d399",
   "metadata": {},
   "source": [
    "Discount Code\n",
    "If a customer enters the correct discount code (DISCOUNT10), \n",
    "apply a 10% discount. Otherwise, charge the full amount"
   ]
  },
  {
   "cell_type": "code",
   "execution_count": 27,
   "id": "4ad821ec-7326-464c-b8df-5b1a255827df",
   "metadata": {},
   "outputs": [
    {
     "name": "stdin",
     "output_type": "stream",
     "text": [
      "The value of items price 10000\n",
      "Enter the number of Discount Code discount10\n"
     ]
    },
    {
     "name": "stdout",
     "output_type": "stream",
     "text": [
      "comgrats you enter the correct code so you get 10% Discount Rs. 1000.0\n",
      "you paid amount after discount Rs. 9000.0\n"
     ]
    }
   ],
   "source": [
    "price = int(input(\"The value of items price\"))\n",
    "discount_code = input(\"Enter the number of Discount Code\")\n",
    "if discount_code =='discount10': \n",
    "    discount = price*.10\n",
    "    print(f\"comgrats you enter the correct code so you get 10% Discount Rs. {discount}\")\n",
    "    print(f'you paid amount after discount Rs. {price - discount}')\n",
    "\n",
    "else:\n",
    "    print(f'sorry you paid full amount {price}')\n",
    "\n",
    "\n",
    "\n",
    "\n",
    "\n"
   ]
  },
  {
   "cell_type": "raw",
   "id": "31fb06b9-2b86-48d5-a48f-ea2adb493c92",
   "metadata": {},
   "source": [
    "Minimum Purchase Requirement\n",
    "If the total amount is less than $20, display a message: \"Minimum purchase of $20 is required.\" \n",
    "Otherwise, display the total amount.\n"
   ]
  },
  {
   "cell_type": "code",
   "execution_count": 31,
   "id": "ac6111f6-3660-4119-a065-732084984f6f",
   "metadata": {},
   "outputs": [
    {
     "name": "stdin",
     "output_type": "stream",
     "text": [
      "the value of total amount 10\n"
     ]
    },
    {
     "name": "stdout",
     "output_type": "stream",
     "text": [
      "Required minimum purchase of 20 \n"
     ]
    }
   ],
   "source": [
    "total_amount = int(input(\"the value of total amount\"))\n",
    "if total_amount <20:\n",
    "    print (f'Required minimum purchase of 20 ')\n",
    "\n",
    "else:\n",
    "    print(f'sorry you dnt get minimum purchase {total_amount}')\n"
   ]
  },
  {
   "cell_type": "raw",
   "id": "fee54bbd-0386-4141-9ae0-c876d1319b69",
   "metadata": {},
   "source": [
    "Loyalty Points\n",
    "If a customer is a loyal member (is_loyal = True), they earn double loyalty points for their purchase. \n",
    "Otherwise, they earn standard points"
   ]
  },
  {
   "cell_type": "code",
   "execution_count": 35,
   "id": "ee54b129-94c1-4783-8ed4-55b696f940c8",
   "metadata": {},
   "outputs": [
    {
     "name": "stdin",
     "output_type": "stream",
     "text": [
      "Enter the points of loyal coustomer 1000\n",
      "Member is loyal or not Y/N n\n"
     ]
    },
    {
     "name": "stdout",
     "output_type": "stream",
     "text": [
      "Member is not Loyal so he is earn 1000\n"
     ]
    }
   ],
   "source": [
    "loyality_points = int(input(\"Enter the points of loyal coustomer\"))\n",
    "loyal_member = input('Member is loyal or not Y/N')\n",
    "if loyal_member =='y':\n",
    "    print(f\"you get earn double loyality points {loyality_points*2}\")\n",
    "\n",
    "else:\n",
    "    print(f'Member is not Loyal so he is earn {loyality_points}')\n",
    "\n",
    "\n"
   ]
  },
  {
   "cell_type": "raw",
   "id": "7293a779-ae81-48ca-a31f-915a9191b8ad",
   "metadata": {},
   "source": [
    "Travel Discount\n",
    "If a person is traveling more than 500 miles, offer a 20% discount on ticket price. \n",
    "Otherwise, charge the full amount.\n"
   ]
  },
  {
   "cell_type": "code",
   "execution_count": 39,
   "id": "8353a346-f2ac-4f57-ac13-a685cb28f553",
   "metadata": {},
   "outputs": [
    {
     "name": "stdin",
     "output_type": "stream",
     "text": [
      "The value of Travelling Miles  600\n"
     ]
    },
    {
     "name": "stdout",
     "output_type": "stream",
     "text": [
      "Congrats you are Travelling more then 500 miles so you get 20% Discount of Rs. 40000.0\n"
     ]
    }
   ],
   "source": [
    "Travelling_Miles = int(input(\"The value of Travelling Miles \"))\n",
    "Ticket_price = 50000\n",
    "if Travelling_Miles >500:\n",
    "    Discount = Ticket_price*.20\n",
    "    print(f'Congrats you are Travelling more then 500 miles so you get 20% Discount of Rs. {Ticket_price-Discount}')\n",
    "\n",
    "else:\n",
    "    print(f'you are travelling less then 500 miles so you paid full amount {Ticket_price}')"
   ]
  },
  {
   "cell_type": "raw",
   "id": "897d59ee-1a89-46eb-a3f7-52e4981435a4",
   "metadata": {},
   "source": [
    "Child or Senior Discount\n",
    "If a passenger is under 12 or over 60 years old, apply a 15% discount on the ticket price. \n",
    "Otherwise, charge the full price"
   ]
  },
  {
   "cell_type": "raw",
   "id": "b080f6b3-af91-4c60-a209-87eefca63fec",
   "metadata": {},
   "source": [
    "Ticket Type Pricing\n",
    "If the ticket is for a weekend (is_weekend = True), add a 10% surcharge. \n",
    "Otherwise, charge the standard price.\n"
   ]
  },
  {
   "cell_type": "code",
   "execution_count": 43,
   "id": "9db81a8f-4993-48b0-b13e-94f7a3e680a3",
   "metadata": {},
   "outputs": [
    {
     "name": "stdin",
     "output_type": "stream",
     "text": [
      "Enter the value or Ticket Price 10000\n",
      "if is weekend add a subcharge 10% of Rs.  n\n"
     ]
    },
    {
     "name": "stdout",
     "output_type": "stream",
     "text": [
      "today is not a weekend so you paid standar charges 10000\n"
     ]
    }
   ],
   "source": [
    "Ticket_Price = int(input(\"Enter the value or Ticket Price\"))\n",
    "is_Weekend = input(\"if is weekend add a subcharge 10% of Rs. \")\n",
    "if is_Weekend =='y':\n",
    "    sub_charge = Ticket_Price*.10\n",
    "    print(f'today is weekend so add a 10% subcharges {sub_charge + Ticket_Price}')\n",
    "\n",
    "else:\n",
    "    print(f'today is not a weekend so you paid standar charges {Ticket_Price}')\n"
   ]
  },
  {
   "cell_type": "raw",
   "id": "2de003f9-ca37-41cf-ba9d-ebea7bc7ded7",
   "metadata": {},
   "source": [
    "Baggage Fee\n",
    "If the total baggage weight is over 20kg, charge $10 per extra kilogram. Otherwise, no extra fee."
   ]
  },
  {
   "cell_type": "code",
   "execution_count": 59,
   "id": "ac62b608-5dc9-40e3-88db-a2bb6ba851f6",
   "metadata": {},
   "outputs": [
    {
     "name": "stdin",
     "output_type": "stream",
     "text": [
      "Enter the value of bagage fee of Rs. 4000\n",
      "The weight of bagage is  22\n"
     ]
    },
    {
     "name": "stdout",
     "output_type": "stream",
     "text": [
      "total bagage wieght is 20\n",
      "total bagage weight include extra kg 4020\n"
     ]
    }
   ],
   "source": [
    "Fee = int(input(\"Enter the value of bagage fee of Rs.\"))\n",
    "weight_kg = int(input(\"The weight of bagage is \"))\n",
    "if weight_kg >20:\n",
    "    extra_kg = (weight_kg-20)*10\n",
    "    print(f'total bagage wieght is {extra_kg}')\n",
    "    print(f'total bagage weight include extra kg {Fee + extra_kg}')\n",
    "\n",
    "else:\n",
    "    print(f'bagage weight is 20kg no extra fees {Fee}')\n",
    "    \n",
    "    \n"
   ]
  },
  {
   "cell_type": "raw",
   "id": "ee6c5a1f-08e2-456c-8c09-af0f69698d0f",
   "metadata": {},
   "source": [
    "Early Bird Discount\n",
    "If a ticket is booked more than 30 days in advance, apply a 10% discount.\n",
    "Otherwise, charge the full price."
   ]
  },
  {
   "cell_type": "code",
   "execution_count": 63,
   "id": "d7360457-9ebc-452e-963f-608adb9633fc",
   "metadata": {},
   "outputs": [
    {
     "name": "stdin",
     "output_type": "stream",
     "text": [
      "The value of Ticket Price is  10000\n",
      "Enter the days of ticket booking 31\n"
     ]
    },
    {
     "name": "stdout",
     "output_type": "stream",
     "text": [
      "Ticket booked advance 9000.0\n"
     ]
    }
   ],
   "source": [
    "Ticket_Price = int(input(\"The value of Ticket Price is \"))\n",
    "booking_days = int(input(\"Enter the days of ticket booking\"))\n",
    "if booking_days >30:\n",
    "    discount = Ticket_Price*.10\n",
    "    print(f'Ticket booked advance {Ticket_Price - discount}')\n",
    "\n",
    "else:\n",
    "    print(f\"if Tckets booked less then 30 days you paid full price {Ticket_Price}\")"
   ]
  },
  {
   "cell_type": "raw",
   "id": "8f9ae2e3-0ed6-4cde-956b-30e1423dd44c",
   "metadata": {},
   "source": [
    "Pass or Fail\n",
    "If a student scores 40 or more, print \"Pass\". Otherwise, print \"Fail\""
   ]
  },
  {
   "cell_type": "code",
   "execution_count": 69,
   "id": "4c97fc9a-ca96-4a39-aff7-944990e18268",
   "metadata": {},
   "outputs": [
    {
     "name": "stdin",
     "output_type": "stream",
     "text": [
      "Enter the student score is  30\n"
     ]
    },
    {
     "name": "stdout",
     "output_type": "stream",
     "text": [
      " if a student score is less then 40 Fail 30\n"
     ]
    }
   ],
   "source": [
    "marks = int(input('Enter the student score is '))\n",
    "if marks >40:\n",
    "    print(f' if a student marks is 40 or above pass {marks}')\n",
    "\n",
    "else:\n",
    "    print(f' if a student score is less then 40 Fail {marks}')\n",
    "    "
   ]
  },
  {
   "cell_type": "raw",
   "id": "96a22bc2-1e5d-445b-936c-8d1da8ab5bc0",
   "metadata": {},
   "source": [
    "Bonus Marks\n",
    "If a student completes all assignments, add 5 bonus marks to their score. \n",
    "Otherwise, no bonus marks."
   ]
  },
  {
   "cell_type": "code",
   "execution_count": 73,
   "id": "3eace52b-20b9-4f4b-9f3f-809623977bb9",
   "metadata": {},
   "outputs": [
    {
     "name": "stdin",
     "output_type": "stream",
     "text": [
      "Enter the Marks all Assignments 100\n",
      "Student complete all assignments Y/N n\n"
     ]
    },
    {
     "name": "stdout",
     "output_type": "stream",
     "text": [
      "Student not complete assignments so no bonus marks 100\n"
     ]
    }
   ],
   "source": [
    "Marks = int(input(\"Enter the Marks all Assignments\"))\n",
    "Assignments = input(\"Student complete all assignments Y/N\")\n",
    "Bonus = 5\n",
    "if Assignments =='y':\n",
    "    print (f'Student complete assignments add bonus {Marks+Bonus}')\n",
    "\n",
    "else:\n",
    "    print(f'Student not complete assignments so no bonus marks {Marks}')"
   ]
  },
  {
   "cell_type": "raw",
   "id": "01706dc4-bc2a-4859-8d50-22761bd37065",
   "metadata": {},
   "source": [
    "Attendance Eligibility\n",
    "If a student's attendance is 75% or more, they are eligible to take the exam. \n",
    "Otherwise, they are not.\n"
   ]
  },
  {
   "cell_type": "code",
   "execution_count": 105,
   "id": "0678fc7f-06d0-47cf-8c4c-126dc99090c7",
   "metadata": {},
   "outputs": [
    {
     "name": "stdin",
     "output_type": "stream",
     "text": [
      "Enter the days of Student Attandence 20\n"
     ]
    },
    {
     "name": "stdout",
     "output_type": "stream",
     "text": [
      " you are eligible\n"
     ]
    }
   ],
   "source": [
    "total_class = 25\n",
    "classesheld = int(input(\"Enter the days of Student Attandence\"))\n",
    "percentage = (classesheld/total_class)*100\n",
    "if percentage >75:\n",
    "    print(f' you are eligible')\n",
    "\n",
    "else:\n",
    "    print(f'you are not eligible')"
   ]
  },
  {
   "cell_type": "raw",
   "id": "5cb4a582-ac38-4234-b502-77d5b04f3858",
   "metadata": {},
   "source": [
    "Scholarship Eligibility\n",
    "If a student's grade is \"A\" and their annual family income is below $30,000, \n",
    "they are eligible for a scholarship. Otherwise, they are not.\n"
   ]
  },
  {
   "cell_type": "code",
   "execution_count": 83,
   "id": "8a5b9ac9-a598-4d1b-ae92-77ec4f87dc88",
   "metadata": {},
   "outputs": [
    {
     "name": "stdin",
     "output_type": "stream",
     "text": [
      "Student family income is Rs. 40000\n",
      "Student Grade a\n"
     ]
    },
    {
     "name": "stdout",
     "output_type": "stream",
     "text": [
      "Congratulation you get a scholarship \n"
     ]
    }
   ],
   "source": [
    "annual_income = int(input('Student family income is Rs.'))\n",
    "Student_grade = input('Student Grade')\n",
    "if annual_income >30000:\n",
    "    print (f'Congratulation you get a scholarship ')\n",
    "\n",
    "else:\n",
    "    print(f'Sorry your family income is not enough for a scholarship')"
   ]
  },
  {
   "cell_type": "raw",
   "id": "fb7d3457-fd68-4ecd-9a6c-65fc68f44ca3",
   "metadata": {},
   "source": [
    "Scholarship Eligibility\n",
    "If a student's grade is \"A\" and their annual family income is below $30,000, \n",
    "they are eligible for a scholarship. Otherwise, they are not."
   ]
  },
  {
   "cell_type": "code",
   "execution_count": 9,
   "id": "3584ff02-5b7a-4d42-b596-d783fbb3a47b",
   "metadata": {},
   "outputs": [
    {
     "name": "stdin",
     "output_type": "stream",
     "text": [
      "Family income 10000\n",
      "Total marks in English Subject 100\n",
      "Total marks in Urdu Subject 100\n",
      "Total marks in Maths Subject 100\n",
      "Total marks in Physics Subject 100\n"
     ]
    },
    {
     "name": "stdout",
     "output_type": "stream",
     "text": [
      "marks obtained 400 & Total Marks 400\n",
      "your grade is A\n",
      "your percentage 100.0\n",
      "Congratulations you got it Scholarship\n"
     ]
    }
   ],
   "source": [
    "income = int(input('Family income'))\n",
    "sub1 = int(input('Total marks in English Subject'))\n",
    "sub2 = int(input('Total marks in Urdu Subject'))\n",
    "sub3 = int(input('Total marks in Maths Subject'))\n",
    "sub4 = int(input('Total marks in Physics Subject'))\n",
    "Total_Marks = 400\n",
    "grade = None\n",
    "obtained_Marks = sub1+sub2+sub3+sub4\n",
    "percentage = obtained_Marks/Total_Marks*100\n",
    "if percentage >=90:\n",
    "    grade = 'A'\n",
    "elif percentage >=80:\n",
    "    grade = 'B'\n",
    "elif percentage >=70:\n",
    "    grade = 'C'\n",
    "else:\n",
    "    grade = 'D'\n",
    "if grade in ['A'] and income <30000:\n",
    "    print(f'marks obtained {obtained_Marks} & Total Marks {Total_Marks}')\n",
    "    print(f'your grade is {grade}')\n",
    "    print(f'your percentage {percentage}')\n",
    "    print(f'Congratulations you got it Scholarship')\n",
    "\n",
    "else:\n",
    "    print(f'Sorry you not elegible for scholarship')\n",
    "\n",
    "    "
   ]
  },
  {
   "cell_type": "raw",
   "id": "5283dcd5-e6de-40db-83b7-b26fc0bf55d3",
   "metadata": {},
   "source": [
    "Tiered Discounts\n",
    "Apply discounts based on the total price:\n",
    "$0–$50: No discount.\n",
    "$50–$100: 10% discount.\n",
    "Over $100: 20% discount"
   ]
  },
  {
   "cell_type": "code",
   "execution_count": 67,
   "id": "6a46b618-a6d0-4ba6-b64c-0a95e62d0e64",
   "metadata": {},
   "outputs": [
    {
     "name": "stdin",
     "output_type": "stream",
     "text": [
      "Enter price 101\n"
     ]
    },
    {
     "name": "stdout",
     "output_type": "stream",
     "text": [
      "you have 20% Discount Rs. 20\n"
     ]
    }
   ],
   "source": [
    "price = int(input('Enter price'))\n",
    "if price <50:\n",
    "    print(f'sorry no Discount')\n",
    "elif price <100:\n",
    "    discount = price*.10\n",
    "    print(f'you have 10% Discount Rs. {discount}')\n",
    "else:\n",
    "    discount = price*.20\n",
    "    print(f'you have 20% Discount Rs. {round(discount)}')\n",
    "\n",
    "\n",
    "    \n",
    "    "
   ]
  },
  {
   "cell_type": "raw",
   "id": "6112f9ae-1770-4df8-8c5a-1b48cdbb1dce",
   "metadata": {},
   "source": [
    "Grade Assignment\n",
    "Based on a student's score, assign grades:\n",
    "90 and above: \"A\"\n",
    "75–89: \"B\"\n",
    "50–74: \"C\"\n",
    "Below 50: \"F\"\n"
   ]
  },
  {
   "cell_type": "code",
   "execution_count": 87,
   "id": "1a63bca5-31cc-4d0c-a143-2030c21c26ce",
   "metadata": {},
   "outputs": [
    {
     "name": "stdin",
     "output_type": "stream",
     "text": [
      "Enter the Score Assignment1 1\n",
      "Enter the Score Assignment2 1\n",
      "Enter the Score Assignment3 1\n"
     ]
    },
    {
     "name": "stdout",
     "output_type": "stream",
     "text": [
      "you are failed in assignment\n"
     ]
    }
   ],
   "source": [
    "ass1 = int(input('Enter the Score Assignment1'))\n",
    "ass2= int(input('Enter the Score Assignment2'))\n",
    "ass3= int(input('Enter the Score Assignment3'))\n",
    "Total_Marks = 300\n",
    "grade = None\n",
    "obtained = ass1+ass2+ass3\n",
    "score = obtained/Total_Marks*100\n",
    "if score >=90:\n",
    "    grade = 'A'\n",
    "    print(f'you passed the assignment your grade is {grade}')\n",
    "elif score >=75:\n",
    "    grade = 'B'\n",
    "    print(f'you passed the assignment your grade is {grade}')\n",
    "elif score >=50:\n",
    "    grade = 'C'\n",
    "    print(f'you passed the assignment your grade is {grade}')\n",
    "    \n",
    "\n",
    "else:\n",
    "    print(f'you are failed in assignment')\n",
    "    \n",
    "    \n",
    "\n"
   ]
  },
  {
   "cell_type": "raw",
   "id": "cd6b8411-359e-45d0-86b8-73d4958e42da",
   "metadata": {},
   "source": [
    "Child or Senior Discount\n",
    "If a passenger is under 12 or over 60 years old, \n",
    "apply a 15% discount on the ticket price. Otherwise, charge the full price.\n"
   ]
  },
  {
   "cell_type": "code",
   "execution_count": 95,
   "id": "f508461c-25d5-4387-85b4-24513b82ffac",
   "metadata": {},
   "outputs": [
    {
     "name": "stdin",
     "output_type": "stream",
     "text": [
      "Ticket Price is  1000\n",
      "Pessanger age 15\n"
     ]
    },
    {
     "name": "stdout",
     "output_type": "stream",
     "text": [
      "sorry you can not discount\n"
     ]
    }
   ],
   "source": [
    "price = int(input('Ticket Price is '))\n",
    "age = int(input('Pessanger age'))\n",
    "if age <12:\n",
    "    discount = price*.15\n",
    "    print(f'your age is {age} you get 15% Discount Rs. {discount}')\n",
    "elif age >60:\n",
    "    discount = price*.15\n",
    "    print(f'your age is {age} you get 15% Discount Rs. {discount}')\n",
    "\n",
    "else:\n",
    "    print(f'sorry you can not discount')\n",
    "    "
   ]
  },
  {
   "cell_type": "code",
   "execution_count": null,
   "id": "b4681b8b-56a9-4bab-82a5-4336b54c1297",
   "metadata": {},
   "outputs": [],
   "source": []
  }
 ],
 "metadata": {
  "kernelspec": {
   "display_name": "Python 3 (ipykernel)",
   "language": "python",
   "name": "python3"
  },
  "language_info": {
   "codemirror_mode": {
    "name": "ipython",
    "version": 3
   },
   "file_extension": ".py",
   "mimetype": "text/x-python",
   "name": "python",
   "nbconvert_exporter": "python",
   "pygments_lexer": "ipython3",
   "version": "3.12.7"
  }
 },
 "nbformat": 4,
 "nbformat_minor": 5
}
