{
 "cells": [
  {
   "cell_type": "raw",
   "id": "de16d5ed-c82b-4de0-83e2-5f4dd5a62d96",
   "metadata": {},
   "source": [
    "1. Write a program that accepts a list from user and print the alternate element of list."
   ]
  },
  {
   "cell_type": "code",
   "execution_count": 11,
   "id": "d7515af4-64d6-47a2-a871-02d41216185c",
   "metadata": {},
   "outputs": [
    {
     "name": "stdout",
     "output_type": "stream",
     "text": [
      "Alternate elements of the list 1\n",
      "Alternate elements of the list 3\n",
      "Alternate elements of the list 5\n",
      "Alternate elements of the list 7\n",
      "Alternate elements of the list 9\n"
     ]
    }
   ],
   "source": [
    "alist = [1, 2, 3, 4, 5, 6, 7, 8, 9, 10]\n",
    "for a in range(0, len(alist),2):\n",
    "    print(f'Alternate elements of the list {alist[a]}')\n",
    "\n",
    "\n"
   ]
  },
  {
   "cell_type": "raw",
   "id": "3a2de30e-dfb9-4faa-bf06-053ff4eda0c2",
   "metadata": {},
   "source": [
    "2. Write a program that accepts a list from user. Your program should reverse the content of list and\n",
    "display it. Do not use reverse() method"
   ]
  },
  {
   "cell_type": "code",
   "execution_count": 1,
   "id": "8d785b7f-2d31-42c2-8191-9e58a46f15dc",
   "metadata": {},
   "outputs": [],
   "source": [
    "alist = [1,2,3,4,5,6,7,8,9]"
   ]
  },
  {
   "cell_type": "code",
   "execution_count": 3,
   "id": "005b1896-8c86-4d45-be21-f023d19bc46b",
   "metadata": {},
   "outputs": [
    {
     "name": "stdout",
     "output_type": "stream",
     "text": [
      "<class 'list'>\n"
     ]
    }
   ],
   "source": [
    "print(type(alist))"
   ]
  },
  {
   "cell_type": "code",
   "execution_count": 5,
   "id": "417375e3-b7f2-4d3a-bb52-1dd0b37b27fd",
   "metadata": {},
   "outputs": [
    {
     "data": {
      "text/plain": [
       "[9, 8, 7, 6, 5, 4, 3, 2, 1]"
      ]
     },
     "execution_count": 5,
     "metadata": {},
     "output_type": "execute_result"
    }
   ],
   "source": [
    "alist [::-1]"
   ]
  },
  {
   "cell_type": "raw",
   "id": "703e6630-29d5-47d3-b0a7-a33c978a72ab",
   "metadata": {},
   "source": [
    "3. Find and display the largest number of a list without using built-in function max(). Your program\n",
    "should ask the user to input values in list from keyboard."
   ]
  },
  {
   "cell_type": "code",
   "execution_count": 1,
   "id": "82353bb5-f5a4-47e1-bfbf-a06757ee99d4",
   "metadata": {},
   "outputs": [
    {
     "ename": "IndentationError",
     "evalue": "unexpected indent (571149470.py, line 2)",
     "output_type": "error",
     "traceback": [
      "\u001b[1;36m  Cell \u001b[1;32mIn[1], line 2\u001b[1;36m\u001b[0m\n\u001b[1;33m    Largestnum = List[0]\u001b[0m\n\u001b[1;37m    ^\u001b[0m\n\u001b[1;31mIndentationError\u001b[0m\u001b[1;31m:\u001b[0m unexpected indent\n"
     ]
    }
   ],
   "source": [
    "List = [10,20,30,40,50,60,70,80,90]\n",
    "    Largestnum = List[0]\n",
    "for num in List:\n",
    "    if num > Largestnum:\n",
    "        Largestnum = num\n",
    "print(f'This {Largestnum} is a Largest number in List')"
   ]
  },
  {
   "cell_type": "raw",
   "id": "f8489204-874f-4460-a84e-fffcc1110154",
   "metadata": {},
   "source": [
    "4. Write a program that rotates the element of a list so that the element at the first index moves to the\n",
    "second index, the element in the second index moves to the third index, etc., and the element in the last\n",
    "index moves to the first index."
   ]
  },
  {
   "cell_type": "code",
   "execution_count": 65,
   "id": "b978e98a-10c0-42dc-b43c-fd718d6f5834",
   "metadata": {},
   "outputs": [],
   "source": [
    "List = [10,20,30,40,50,60,70,80,90]\n",
    "rotates_element_1 = List [0:] + List [:1]\n",
    "rotates_element_2 = List [-1:] + List [:-1]\n",
    "rotates_element_3 = List [8:] + List [:8]\n"
   ]
  },
  {
   "cell_type": "code",
   "execution_count": 67,
   "id": "30c0b902-0751-431d-88da-bcc25877d59e",
   "metadata": {},
   "outputs": [
    {
     "name": "stdout",
     "output_type": "stream",
     "text": [
      "[10, 20, 30, 40, 50, 60, 70, 80, 90, 10]\n",
      "[90, 10, 20, 30, 40, 50, 60, 70, 80]\n",
      "[90, 10, 20, 30, 40, 50, 60, 70, 80]\n"
     ]
    }
   ],
   "source": [
    "print(rotates_element_1)\n",
    "print(rotates_element_2)\n",
    "print(rotates_element_3)"
   ]
  },
  {
   "cell_type": "raw",
   "id": "0df4e923-0c9c-477d-a61a-4ffefe5fd694",
   "metadata": {},
   "source": [
    "5. Write a program that input a string and ask user to delete a given word from a string."
   ]
  },
  {
   "cell_type": "code",
   "execution_count": 77,
   "id": "a2f99961-bd8d-476a-9223-69a2176fab23",
   "metadata": {},
   "outputs": [
    {
     "name": "stdin",
     "output_type": "stream",
     "text": [
      "Enter the String Hello Python World\n",
      "Enter the Delete Word in String Python\n"
     ]
    },
    {
     "name": "stdout",
     "output_type": "stream",
     "text": [
      "Hello  World\n"
     ]
    }
   ],
   "source": [
    "String = input('Enter the String')\n",
    "dele_word = input('Enter the Delete Word in String')\n",
    "update_string = String.replace(dele_word, \"\")\n",
    "print(update_string)"
   ]
  },
  {
   "cell_type": "raw",
   "id": "ffa9dc07-6c6d-4e1c-b443-3bd7bb551c08",
   "metadata": {},
   "source": [
    "6. Write a program that reads a string from the user containing a date in the form mm/dd/yyyy. It\n",
    "should print the date in the form March 12, 2021."
   ]
  },
  {
   "cell_type": "code",
   "execution_count": 23,
   "id": "1c4271fb-5ca3-4dec-8de4-78b56c3a1c90",
   "metadata": {},
   "outputs": [
    {
     "name": "stdin",
     "output_type": "stream",
     "text": [
      "Enter the Date 03/12/21\n"
     ]
    },
    {
     "name": "stdout",
     "output_type": "stream",
     "text": [
      " Date Formated March 12, 21\n"
     ]
    }
   ],
   "source": [
    "from datetime import datetime\n",
    "Date = input(\"Enter the Date\")\n",
    "Date_Time = datetime.strptime(Date, \"%m/%d/%y\")\n",
    "Date_Formate = Date_Time.strftime(\"%B %d, %y\")\n",
    "print(f' Date Formated {Date_Formate}')"
   ]
  },
  {
   "cell_type": "raw",
   "id": "e589e73c-c254-49f3-911f-04287f16d17f",
   "metadata": {},
   "source": [
    "7. Write a program with a function that accepts a string from keyboard and create a new string after\n",
    "converting character of each word capitalized. For instance, if the sentence is \"stop and smell the roses.\"\n",
    "the output should be \"Stop And Smell The Roses\""
   ]
  },
  {
   "cell_type": "code",
   "execution_count": 23,
   "id": "667ca799-52f7-43b5-9cd1-950ab2724a77",
   "metadata": {},
   "outputs": [
    {
     "name": "stdin",
     "output_type": "stream",
     "text": [
      "Enter the Sentence stop and smell the roses\n"
     ]
    },
    {
     "name": "stdout",
     "output_type": "stream",
     "text": [
      "output: Stop And Smell The Roses\n"
     ]
    }
   ],
   "source": [
    "Sentence = input('Enter the Sentence')\n",
    "S_Capital = [word.capitalize()for word in Sentence.split()]\n",
    "print(\"output:\",' '.join(S_Capital))"
   ]
  },
  {
   "cell_type": "raw",
   "id": "a0bf439b-b981-4102-9ab3-687fc8260cf7",
   "metadata": {},
   "source": [
    "8. Find the sum of each row of matrix of size m x n. For example for the following matrix output will be\n",
    "like this :\n",
    "Sum of row 1 = 32\n",
    "Sum of row 2 = 31\n",
    "Sum of row 3 = 63"
   ]
  },
  {
   "cell_type": "code",
   "execution_count": 1,
   "id": "72ecfebf-930c-462e-b557-50d55ef25485",
   "metadata": {},
   "outputs": [
    {
     "name": "stdout",
     "output_type": "stream",
     "text": [
      "Sum of row 1 = 32\n",
      "Sum of row 2 = 31\n",
      "Sum of row 3 = 63\n"
     ]
    }
   ],
   "source": [
    "matrix = [\n",
    "    [2, 11, 7, 12],   \n",
    "    [5, 2, 9, 15],   \n",
    "    [8, 3, 10, 42] \n",
    "]\n",
    "\n",
    "\n",
    "for a in range(len(matrix)):  \n",
    "    row_sum = sum(matrix[a])   \n",
    "    print(f\"Sum of row {a+1} = {row_sum}\") "
   ]
  },
  {
   "cell_type": "code",
   "execution_count": null,
   "id": "6ba0c31f-7017-4ae2-96f6-401086912614",
   "metadata": {},
   "outputs": [],
   "source": []
  }
 ],
 "metadata": {
  "kernelspec": {
   "display_name": "Python 3 (ipykernel)",
   "language": "python",
   "name": "python3"
  },
  "language_info": {
   "codemirror_mode": {
    "name": "ipython",
    "version": 3
   },
   "file_extension": ".py",
   "mimetype": "text/x-python",
   "name": "python",
   "nbconvert_exporter": "python",
   "pygments_lexer": "ipython3",
   "version": "3.12.7"
  }
 },
 "nbformat": 4,
 "nbformat_minor": 5
}
