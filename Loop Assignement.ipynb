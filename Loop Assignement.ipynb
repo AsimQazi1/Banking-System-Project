{
 "cells": [
  {
   "cell_type": "raw",
   "id": "628b4b33-1cf8-4b32-8c01-64fe85a208b3",
   "metadata": {},
   "source": [
    "1. Write a Python program to print the numbers from 1 to 10 using a for loop."
   ]
  },
  {
   "cell_type": "code",
   "execution_count": 1,
   "id": "801f8e6b-1d6e-4e5a-87cf-b123e4c001ec",
   "metadata": {},
   "outputs": [
    {
     "name": "stdout",
     "output_type": "stream",
     "text": [
      "1\n",
      "2\n",
      "3\n",
      "4\n",
      "5\n",
      "6\n",
      "7\n",
      "8\n",
      "9\n",
      "10\n"
     ]
    }
   ],
   "source": [
    "for number in range(1,11):\n",
    "    print(number)"
   ]
  },
  {
   "cell_type": "raw",
   "id": "bb568268-c21b-4602-888e-51722cb1eb5e",
   "metadata": {},
   "source": [
    "2. Write a Python program to print the numbers from 20 to 1 using a while loop"
   ]
  },
  {
   "cell_type": "code",
   "execution_count": 13,
   "id": "927b0306-54b4-481b-9a08-e767d4535cad",
   "metadata": {},
   "outputs": [
    {
     "name": "stdout",
     "output_type": "stream",
     "text": [
      "20\n",
      "19\n",
      "18\n",
      "17\n",
      "16\n",
      "15\n",
      "14\n",
      "13\n",
      "12\n",
      "11\n",
      "10\n",
      "9\n",
      "8\n",
      "7\n",
      "6\n",
      "5\n",
      "4\n",
      "3\n",
      "2\n",
      "1\n"
     ]
    }
   ],
   "source": [
    "number = 20\n",
    "while number >=1:\n",
    "    print(number)\n",
    "    number-=1"
   ]
  },
  {
   "cell_type": "raw",
   "id": "bc8d5a3f-58a5-4123-92a5-3130a4a9a04a",
   "metadata": {},
   "source": [
    "3. Write a program to print even numbers from 1 to 10."
   ]
  },
  {
   "cell_type": "code",
   "execution_count": 17,
   "id": "5b7e3113-de40-4113-b746-1c0fccfbe61b",
   "metadata": {},
   "outputs": [
    {
     "name": "stdout",
     "output_type": "stream",
     "text": [
      "2 This is Even Numbers\n",
      "4 This is Even Numbers\n",
      "6 This is Even Numbers\n",
      "8 This is Even Numbers\n",
      "10 This is Even Numbers\n"
     ]
    }
   ],
   "source": [
    "\n",
    "for number in range(1,11):\n",
    "    if number %2==0:\n",
    "        print(f'{number} This is Even Numbers')"
   ]
  },
  {
   "cell_type": "markdown",
   "id": "814526b5-d044-4732-97bb-3b8ff907adfd",
   "metadata": {},
   "source": [
    "4. Write a program that prompts the user to enter a number n and prints all the\n",
    "numbers from 1 to n."
   ]
  },
  {
   "cell_type": "code",
   "execution_count": 3,
   "id": "f08edd5e-824c-4226-a182-da97742a27d3",
   "metadata": {},
   "outputs": [
    {
     "name": "stdin",
     "output_type": "stream",
     "text": [
      "Enter a Number 8\n"
     ]
    },
    {
     "name": "stdout",
     "output_type": "stream",
     "text": [
      "1\n",
      "2\n",
      "3\n",
      "4\n",
      "5\n",
      "6\n",
      "7\n",
      "8\n"
     ]
    }
   ],
   "source": [
    "n = int(input('Enter a Number'))\n",
    "for number in range(1, n + 1):\n",
    "    print(number)"
   ]
  },
  {
   "cell_type": "raw",
   "id": "4e569e79-e4f8-43fc-9093-fdced3b5d721",
   "metadata": {},
   "source": [
    "5. Write a program that prompts the user to enter a number n, and then prints all the\n",
    "odd numbers between 1 and n."
   ]
  },
  {
   "cell_type": "code",
   "execution_count": 9,
   "id": "15f4d214-f68d-4a3a-8eea-790edc28b020",
   "metadata": {},
   "outputs": [
    {
     "name": "stdin",
     "output_type": "stream",
     "text": [
      "Enter the numbers 9\n"
     ]
    },
    {
     "name": "stdout",
     "output_type": "stream",
     "text": [
      "1 This is Odd Numbers\n",
      "3 This is Odd Numbers\n",
      "5 This is Odd Numbers\n",
      "7 This is Odd Numbers\n"
     ]
    }
   ],
   "source": [
    "numbers = int(input('Enter the numbers'))\n",
    "for a in range(1,number+1):\n",
    "    if a %2!=0:\n",
    "        print(f'{a} This is Odd Numbers')"
   ]
  },
  {
   "cell_type": "raw",
   "id": "085c0ad2-7faf-4cbb-bb7d-55dcfdbc15f7",
   "metadata": {},
   "source": [
    "6. Write a program that prints 'Happy Birthday!' five times on screen."
   ]
  },
  {
   "cell_type": "code",
   "execution_count": 13,
   "id": "1e23b1c0-f8ca-4bd4-9924-b21b1e343919",
   "metadata": {},
   "outputs": [
    {
     "name": "stdin",
     "output_type": "stream",
     "text": [
      "Enter the String Happy Birthday!\n"
     ]
    },
    {
     "name": "stdout",
     "output_type": "stream",
     "text": [
      "Happy Birthday!\n",
      "Happy Birthday!\n",
      "Happy Birthday!\n",
      "Happy Birthday!\n",
      "Happy Birthday!\n"
     ]
    }
   ],
   "source": [
    "String = input('Enter the String')\n",
    "for a in range(5):\n",
    "    print(String)"
   ]
  },
  {
   "cell_type": "raw",
   "id": "a9ff6e36-e118-42a5-a2d4-d3b867c3ef97",
   "metadata": {},
   "source": [
    "7. Write a program that takes a number n as input from the user and generates the first\n",
    "n terms of the series formed by squaring the natural numbers.\n",
    "Sample output\n",
    "Enter a number: 6\n",
    "The first 6 terms of the series are:\n",
    "1 4 9 16 25 36"
   ]
  },
  {
   "cell_type": "code",
   "execution_count": 19,
   "id": "2947072a-2aff-4bef-9ba4-62a34ffc8f64",
   "metadata": {},
   "outputs": [
    {
     "name": "stdin",
     "output_type": "stream",
     "text": [
      "Enter the Number 8\n"
     ]
    },
    {
     "name": "stdout",
     "output_type": "stream",
     "text": [
      "1\n",
      "4\n",
      "9\n",
      "16\n",
      "25\n",
      "36\n",
      "49\n",
      "64\n"
     ]
    }
   ],
   "source": [
    "number = int(input('Enter the Number'))\n",
    "for a in range(1,number+1):\n",
    "    print(a**2)"
   ]
  },
  {
   "cell_type": "raw",
   "id": "9b51f5e1-3a6f-4d68-a5b6-377167819893",
   "metadata": {},
   "source": [
    "8. Write a program that prompts the user to input a number and prints its multiplication\n",
    "table."
   ]
  },
  {
   "cell_type": "code",
   "execution_count": 11,
   "id": "f26062b2-76e5-4bc0-91fd-e0d9fc07144d",
   "metadata": {},
   "outputs": [
    {
     "name": "stdin",
     "output_type": "stream",
     "text": [
      "Enter the number 5\n"
     ]
    },
    {
     "name": "stdout",
     "output_type": "stream",
     "text": [
      "5x1 = 5 \n",
      "5x2 = 10 \n",
      "5x3 = 15 \n",
      "5x4 = 20 \n",
      "5x5 = 25 \n",
      "5x6 = 30 \n",
      "5x7 = 35 \n",
      "5x8 = 40 \n",
      "5x9 = 45 \n",
      "5x10 = 50 \n"
     ]
    }
   ],
   "source": [
    "number = int(input('Enter the number'))\n",
    "for a in range(1,11):\n",
    "    print(f'{number}x{a} = {number*a} ')"
   ]
  },
  {
   "cell_type": "raw",
   "id": "3d615cf2-3f20-464e-b5f2-39edff396de5",
   "metadata": {},
   "source": [
    "9. Write a Python program to print the first 8 terms of an arithmetic progression starting\n",
    "with 3 and having a common difference of 4.\n",
    "The program should output the following sequence:\n",
    "3 7 11 15 19 23 27 31"
   ]
  },
  {
   "cell_type": "code",
   "execution_count": 15,
   "id": "f15699cb-3f47-4c1c-b1b5-06e07d6fa92a",
   "metadata": {},
   "outputs": [
    {
     "name": "stdout",
     "output_type": "stream",
     "text": [
      "3\n",
      "7\n",
      "11\n",
      "15\n",
      "19\n",
      "23\n",
      "27\n",
      "31\n"
     ]
    }
   ],
   "source": [
    "first_number = 3\n",
    "diffrence_number = 4\n",
    "for a in range(8):\n",
    "    numbers = first_number+a* diffrence_number\n",
    "    print(numbers)"
   ]
  },
  {
   "cell_type": "raw",
   "id": "a24bcd3e-80d8-4784-a7af-30b13ee53cf9",
   "metadata": {},
   "source": [
    "10. Write a Python program to print the first 6 terms of a geometric sequence starting\n",
    "with 2 and having a common ratio of 3.\n",
    "The program should output the following sequence:\n",
    "2 6 18 54 162 486"
   ]
  },
  {
   "cell_type": "code",
   "execution_count": 29,
   "id": "49e82ca6-447b-4fff-ba80-f82b9fe573d9",
   "metadata": {},
   "outputs": [
    {
     "name": "stdout",
     "output_type": "stream",
     "text": [
      "2\n",
      "6\n",
      "18\n",
      "54\n",
      "162\n",
      "486\n"
     ]
    }
   ],
   "source": [
    "first_number = 2\n",
    "diffrence_number = 3\n",
    "for a in range(6):\n",
    "    numbers = first_number* (diffrence_number**a)\n",
    "    print(numbers)"
   ]
  },
  {
   "cell_type": "raw",
   "id": "71a3b1fb-c67f-4f51-b853-6add6a6c564c",
   "metadata": {},
   "source": [
    "11. Write a program that asks the user for a positive integer value. The program should\n",
    "calculate the sum of all the integers from 1 up to the number entered. For example, if\n",
    "the user enters 20, the loop will find the sum of 1, 2, 3, 4, ... 20"
   ]
  },
  {
   "cell_type": "code",
   "execution_count": 39,
   "id": "5854b96f-dc40-416d-905c-349f30145bec",
   "metadata": {},
   "outputs": [
    {
     "name": "stdin",
     "output_type": "stream",
     "text": [
      "Enter the number 20\n"
     ]
    },
    {
     "name": "stdout",
     "output_type": "stream",
     "text": [
      "1\n",
      "3\n",
      "6\n",
      "10\n",
      "15\n",
      "21\n",
      "28\n",
      "36\n",
      "45\n",
      "55\n",
      "66\n",
      "78\n",
      "91\n",
      "105\n",
      "120\n",
      "136\n",
      "153\n",
      "171\n",
      "190\n",
      "210\n"
     ]
    }
   ],
   "source": [
    "num = int(input('Enter the number'))\n",
    "total_sum = 0\n",
    "for a in range(1,num+1):\n",
    "    total_sum+=a\n",
    "    print(f'{total_sum}')\n"
   ]
  },
  {
   "cell_type": "raw",
   "id": "3fb47b59-9b58-434d-8d32-ab12feeab858",
   "metadata": {},
   "source": [
    "12. write a program that takes a positive integer N as input and calculates the sum of\n",
    "the reciprocals of all numbers from 1 up to N. The program should display the final sum.Output of the program should be like:\n",
    "Enter a positive integer: 5\n",
    "The sum of reciprocals from 1 to 5 is: 2.28\n"
   ]
  },
  {
   "cell_type": "code",
   "execution_count": 37,
   "id": "a0c1a212-be82-4f52-9be8-ebda4c8e0d07",
   "metadata": {},
   "outputs": [
    {
     "name": "stdin",
     "output_type": "stream",
     "text": [
      "Enter a number 5\n"
     ]
    },
    {
     "name": "stdout",
     "output_type": "stream",
     "text": [
      "1.00\n",
      "1.50\n",
      "1.83\n",
      "2.08\n",
      "2.28\n"
     ]
    }
   ],
   "source": [
    "number = int(input('Enter a number'))\n",
    "reciprocals = 0\n",
    "for a in range(1,number+1):\n",
    "    reciprocals += 1/a \n",
    "    print (f'{reciprocals:.2f}')"
   ]
  },
  {
   "cell_type": "raw",
   "id": "7de8b4cf-599a-4c03-bd0b-3397df28a4ab",
   "metadata": {},
   "source": [
    "13. Write a program that prompts the user to enter a number and repeats this process 5\n",
    "times. The program should accumulate the numbers entered and then display the final\n",
    "running total.\n",
    "Sample Output:\n",
    "Enter a number: 10\n",
    "Enter a number: 15\n",
    "Enter a number: 35\n",
    "Enter a number: 40\n",
    "Enter a number: 50\n",
    "The final running total is: 150"
   ]
  },
  {
   "cell_type": "code",
   "execution_count": 11,
   "id": "ed9d02d4-4cf3-4202-a767-e5e96b405085",
   "metadata": {},
   "outputs": [
    {
     "name": "stdin",
     "output_type": "stream",
     "text": [
      "Enter the number_1 10\n"
     ]
    },
    {
     "name": "stdout",
     "output_type": "stream",
     "text": [
      "Running Total is 10\n"
     ]
    },
    {
     "name": "stdin",
     "output_type": "stream",
     "text": [
      "Enter the number_1 15\n"
     ]
    },
    {
     "name": "stdout",
     "output_type": "stream",
     "text": [
      "Running Total is 25\n"
     ]
    },
    {
     "name": "stdin",
     "output_type": "stream",
     "text": [
      "Enter the number_1 35\n"
     ]
    },
    {
     "name": "stdout",
     "output_type": "stream",
     "text": [
      "Running Total is 60\n"
     ]
    },
    {
     "name": "stdin",
     "output_type": "stream",
     "text": [
      "Enter the number_1 40\n"
     ]
    },
    {
     "name": "stdout",
     "output_type": "stream",
     "text": [
      "Running Total is 100\n"
     ]
    },
    {
     "name": "stdin",
     "output_type": "stream",
     "text": [
      "Enter the number_1 50\n"
     ]
    },
    {
     "name": "stdout",
     "output_type": "stream",
     "text": [
      "Running Total is 150\n"
     ]
    }
   ],
   "source": [
    "total =0\n",
    "for a in range(5):\n",
    "    number = int(input('Enter the number_1'))\n",
    "    total+=number\n",
    "    print(f'Running Total is {total}')\n"
   ]
  },
  {
   "cell_type": "raw",
   "id": "c912b996-ceee-4a32-bb14-5584be1e695b",
   "metadata": {},
   "source": [
    "14. Write a program that prompts the user to enter a positive integer and calculates its\n",
    "factorial. The factorial of a positive integer 'n' is denoted as 'n!' and is calculated by\n",
    "multiplying all the integers from 1 to 'n' together. For example, the factorial of 5\n",
    "(denoted as 5!) is calculated as 1 x 2 x 3 x 4 x 5.\n",
    "The program should display the factorial value if the input is a positive number, or\n",
    "display a message stating that the factorial does not exist for negative numbers.\n",
    "Additionally, for an input of zero, the program should output that the factorial of 0 is 1."
   ]
  },
  {
   "cell_type": "code",
   "execution_count": 51,
   "id": "59068c92-d123-422a-9ba1-3f18fe221a91",
   "metadata": {},
   "outputs": [
    {
     "name": "stdin",
     "output_type": "stream",
     "text": [
      "Enter the number 5\n"
     ]
    },
    {
     "name": "stdout",
     "output_type": "stream",
     "text": [
      "120\n"
     ]
    }
   ],
   "source": [
    "number = int(input('Enter the number'))\n",
    "if number <=0:\n",
    "    print(\"Factorial does not exist for negative numbers.\")\n",
    "elif number==0:\n",
    "    print(\"The factorial of 0 is 1.\")\n",
    "else:\n",
    "    factorial = 1\n",
    "    for a in range(1,number+1):\n",
    "        factorial *=a\n",
    "    print(f'{factorial}')"
   ]
  },
  {
   "cell_type": "raw",
   "id": "6ed47382-185a-4ca7-9c6d-8713458ba7ce",
   "metadata": {},
   "source": [
    "15. Write a Python program that prompts the user to enter a base number and an\n",
    "exponent, and then calculates the power of the base to the exponent. The program\n",
    "should not use the exponentiation operator (**) or the math.pow() function. The\n",
    "program should handle both positive and negative exponents."
   ]
  },
  {
   "cell_type": "code",
   "execution_count": 3,
   "id": "7c8fde1e-6388-4f45-bd98-058522fa2c8d",
   "metadata": {},
   "outputs": [
    {
     "data": {
      "text/plain": [
       "3"
      ]
     },
     "execution_count": 3,
     "metadata": {},
     "output_type": "execute_result"
    }
   ],
   "source": [
    "def calculate_exponent(num, exp):\n",
    "    s = 1 #5,25,125\n",
    "    for e in range(1,exp+1):\n",
    "        s=s*num\n",
    "        return s\n",
    "calculate_exponent(3,4)\n",
    "        "
   ]
  },
  {
   "cell_type": "code",
   "execution_count": null,
   "id": "de13bf2d-5a10-4188-b561-b41a237e56c4",
   "metadata": {},
   "outputs": [],
   "source": []
  }
 ],
 "metadata": {
  "kernelspec": {
   "display_name": "Python 3 (ipykernel)",
   "language": "python",
   "name": "python3"
  },
  "language_info": {
   "codemirror_mode": {
    "name": "ipython",
    "version": 3
   },
   "file_extension": ".py",
   "mimetype": "text/x-python",
   "name": "python",
   "nbconvert_exporter": "python",
   "pygments_lexer": "ipython3",
   "version": "3.12.7"
  }
 },
 "nbformat": 4,
 "nbformat_minor": 5
}
