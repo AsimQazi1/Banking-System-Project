{
 "cells": [
  {
   "cell_type": "raw",
   "id": "ccce741c-d849-44f5-979e-8e164fc3ea25",
   "metadata": {},
   "source": [
    "Questions:\n",
    "1) Area of a Rectangle:\n",
    "Write a Python program to calculate the area of a rectangle. Use the formula:\n",
    "𝐴𝒓𝒆𝒂 = 𝒍𝒆𝒏𝒈𝒕𝒉 × 𝒘𝒊𝒅𝒕𝒉\n",
    "Take length and width as inputs from the user"
   ]
  },
  {
   "cell_type": "code",
   "execution_count": 1,
   "id": "dce04cd0-6c00-487e-9f44-97d89a644248",
   "metadata": {},
   "outputs": [
    {
     "name": "stdin",
     "output_type": "stream",
     "text": [
      "the length is 10\n",
      "the width is 20\n"
     ]
    }
   ],
   "source": [
    "length = int(input(\"the length is\"))\n",
    "width = int(input(\"the width is\"))"
   ]
  },
  {
   "cell_type": "code",
   "execution_count": 15,
   "id": "10482065-af3a-4169-a091-c3436b89aa74",
   "metadata": {},
   "outputs": [],
   "source": [
    "area = length * width"
   ]
  },
  {
   "cell_type": "code",
   "execution_count": 17,
   "id": "4e15361e-20c9-4c36-9982-c2784b61dbc1",
   "metadata": {},
   "outputs": [
    {
     "data": {
      "text/plain": [
       "200"
      ]
     },
     "execution_count": 17,
     "metadata": {},
     "output_type": "execute_result"
    }
   ],
   "source": [
    "area"
   ]
  },
  {
   "cell_type": "code",
   "execution_count": 29,
   "id": "e10f5d39-41d6-4139-8911-b91064023e83",
   "metadata": {},
   "outputs": [
    {
     "name": "stdout",
     "output_type": "stream",
     "text": [
      "the area of rectangle be 200\n"
     ]
    }
   ],
   "source": [
    "print(f'the area of rectangle be {area}')"
   ]
  },
  {
   "cell_type": "raw",
   "id": "0dc060b5-851b-4e52-ad6b-6ef2f0a2b7ba",
   "metadata": {},
   "source": [
    "Circumference of a Circle:\n",
    "Write a Python program to calculate the circumference of a circle. Use the formula:\n",
    "𝑪𝒊𝒓𝒄𝒖𝒎𝒇𝒆𝒓𝒆𝒏𝒄𝒆 = 𝟐𝝅𝒓\n",
    "Take the radius r as input from the user"
   ]
  },
  {
   "cell_type": "code",
   "execution_count": 73,
   "id": "61de35ad-c2da-4426-9ba0-13028ea4ae35",
   "metadata": {},
   "outputs": [],
   "source": [
    "import math"
   ]
  },
  {
   "cell_type": "code",
   "execution_count": 61,
   "id": "b28cc96d-2b8e-4067-8672-6c983fad17ae",
   "metadata": {},
   "outputs": [
    {
     "name": "stdin",
     "output_type": "stream",
     "text": [
      "the radius is 15\n"
     ]
    }
   ],
   "source": [
    "𝒓 = int(input(\"the radius is\"))"
   ]
  },
  {
   "cell_type": "code",
   "execution_count": 63,
   "id": "1080d14c-d14f-4169-ae9e-218b6e3c039d",
   "metadata": {},
   "outputs": [
    {
     "data": {
      "text/plain": [
       "15"
      ]
     },
     "execution_count": 63,
     "metadata": {},
     "output_type": "execute_result"
    }
   ],
   "source": [
    "𝒓"
   ]
  },
  {
   "cell_type": "code",
   "execution_count": 75,
   "id": "9b395db0-408a-44d3-b30a-71b8f7203b4d",
   "metadata": {},
   "outputs": [
    {
     "data": {
      "text/plain": [
       "94.24777960769379"
      ]
     },
     "execution_count": 75,
     "metadata": {},
     "output_type": "execute_result"
    }
   ],
   "source": [
    "circumference = 2 * math.pi * 𝒓\n",
    "circumference"
   ]
  },
  {
   "cell_type": "code",
   "execution_count": 91,
   "id": "ec1e527f-575e-4a25-ab6f-9b0116af36d8",
   "metadata": {},
   "outputs": [
    {
     "name": "stdout",
     "output_type": "stream",
     "text": [
      " circumference of the circle is 94\n"
     ]
    }
   ],
   "source": [
    "print (f' circumference of the circle is {int(circumference)}')"
   ]
  },
  {
   "cell_type": "code",
   "execution_count": 87,
   "id": "e0c375ff-58ef-4513-8735-273d5c4dabfd",
   "metadata": {},
   "outputs": [
    {
     "data": {
      "text/plain": [
       "94"
      ]
     },
     "execution_count": 87,
     "metadata": {},
     "output_type": "execute_result"
    }
   ],
   "source": [
    "int(circumference)"
   ]
  },
  {
   "cell_type": "raw",
   "id": "2152b1d3-eee5-443c-b9b4-5f97f26ac007",
   "metadata": {},
   "source": [
    "Simple Interest:\n",
    "Write a Python program to calculate the simple interest. Use the formula:\n",
    "𝑺𝒊𝒎𝒑𝒍𝒆 𝑰𝒏𝒕𝒆𝒓𝒆𝒔𝒕 = 𝑷𝒓𝒊𝒏𝒄𝒊𝒑𝒂𝒍 × 𝑹𝒂𝒕𝒆 × 𝑻𝒊𝒎𝒆\n",
    "Take Principal, Rate, and Time as inputs from the user."
   ]
  },
  {
   "cell_type": "code",
   "execution_count": 99,
   "id": "981aaa8e-9a60-4328-9c11-dc0ea1383766",
   "metadata": {},
   "outputs": [
    {
     "name": "stdin",
     "output_type": "stream",
     "text": [
      "value of principle is 40\n",
      "value of rate is 30\n",
      "value of time is 20\n"
     ]
    }
   ],
   "source": [
    "principle =  int(input(\"value of principle is\"))\n",
    "Rate = int(input(\"value of rate is\"))\n",
    "Time = int(input(\"value of time is\"))"
   ]
  },
  {
   "cell_type": "code",
   "execution_count": 101,
   "id": "ea8cf303-54d9-46ad-9290-d34117d568eb",
   "metadata": {},
   "outputs": [],
   "source": [
    "Simple_Intrest = principle * Rate * Time"
   ]
  },
  {
   "cell_type": "code",
   "execution_count": 105,
   "id": "1ceb73b6-5b48-4325-aec2-5d316534c3e5",
   "metadata": {},
   "outputs": [
    {
     "data": {
      "text/plain": [
       "24000"
      ]
     },
     "execution_count": 105,
     "metadata": {},
     "output_type": "execute_result"
    }
   ],
   "source": [
    "Simple_Intrest"
   ]
  },
  {
   "cell_type": "code",
   "execution_count": 107,
   "id": "61a36783-2a80-4f12-9c45-12eb86f1db97",
   "metadata": {},
   "outputs": [
    {
     "name": "stdout",
     "output_type": "stream",
     "text": [
      "Simple intrest value is 24000\n"
     ]
    }
   ],
   "source": [
    "print (f\"Simple intrest value is {Simple_Intrest}\")"
   ]
  },
  {
   "cell_type": "raw",
   "id": "ebfb341c-eedf-4dfc-891f-e280e721f263",
   "metadata": {},
   "source": [
    "4) Speed of an Object:\n",
    "Write a Python program to calculate the speed of an object. Use the formula:\n",
    "𝑆𝒑𝒆𝒆𝒅 = 𝑫𝒊𝒔𝒕𝒂𝒏𝒄𝒆 / 𝑻𝒊𝒎𝒆\n",
    "Take Distance and Time as inputs from the user"
   ]
  },
  {
   "cell_type": "code",
   "execution_count": 113,
   "id": "3ed8711f-6ea1-4e12-900e-3afc46e057e5",
   "metadata": {},
   "outputs": [
    {
     "name": "stdin",
     "output_type": "stream",
     "text": [
      "the value of distance is 50\n",
      "the value of time is  20\n"
     ]
    }
   ],
   "source": [
    "Distance = int(input(\"the value of distance is\"))\n",
    "Time = int(input (\"the value of time is \"))"
   ]
  },
  {
   "cell_type": "code",
   "execution_count": 115,
   "id": "dffbcd15-20f8-44cc-b8ba-878fcde3e378",
   "metadata": {},
   "outputs": [],
   "source": [
    "Speed = Distance / Time"
   ]
  },
  {
   "cell_type": "code",
   "execution_count": 117,
   "id": "2d2d7529-0fff-4813-905e-fb1ba6e8603b",
   "metadata": {},
   "outputs": [
    {
     "data": {
      "text/plain": [
       "2.5"
      ]
     },
     "execution_count": 117,
     "metadata": {},
     "output_type": "execute_result"
    }
   ],
   "source": [
    "Speed"
   ]
  },
  {
   "cell_type": "code",
   "execution_count": 123,
   "id": "87541d04-371a-41ff-bea5-2722461a66c8",
   "metadata": {},
   "outputs": [
    {
     "name": "stdout",
     "output_type": "stream",
     "text": [
      " the speed value is 2.5\n"
     ]
    }
   ],
   "source": [
    "print (f\" the speed value is {Speed}\")"
   ]
  },
  {
   "cell_type": "raw",
   "id": "81031ece-766b-42f4-8291-5c33f6d0af10",
   "metadata": {},
   "source": [
    "5) BMI Calculator:\n",
    "Write a Python program to calculate the Body Mass Index (BMI). Use the formula:\n",
    "BMI = weight(kg) / (height).²\n",
    "Take Weight (in kilograms) and Height (in meters) as inputs from the user"
   ]
  },
  {
   "cell_type": "code",
   "execution_count": 129,
   "id": "93179777-3f0a-4f19-8c15-71b77a2a5b85",
   "metadata": {},
   "outputs": [
    {
     "name": "stdin",
     "output_type": "stream",
     "text": [
      "the value of weight is 70\n",
      "the value of height is 1.8288\n"
     ]
    }
   ],
   "source": [
    "weight_kg = int(input(\"the value of weight is\"))\n",
    "height = float(input(\"the value of height is\"))"
   ]
  },
  {
   "cell_type": "code",
   "execution_count": 131,
   "id": "84f00e71-95b7-4881-82ed-612708ef4076",
   "metadata": {},
   "outputs": [],
   "source": [
    "BMI_Calculator = weight_kg / height**2"
   ]
  },
  {
   "cell_type": "code",
   "execution_count": 133,
   "id": "48f7f8b1-bb27-4ca2-9e8b-bcf7cdcd97a5",
   "metadata": {},
   "outputs": [
    {
     "data": {
      "text/plain": [
       "20.929825810268905"
      ]
     },
     "execution_count": 133,
     "metadata": {},
     "output_type": "execute_result"
    }
   ],
   "source": [
    "BMI_Calculator"
   ]
  },
  {
   "cell_type": "code",
   "execution_count": 137,
   "id": "bb637870-1e33-4337-a808-d1b0744606b9",
   "metadata": {},
   "outputs": [
    {
     "name": "stdout",
     "output_type": "stream",
     "text": [
      "the value of BMI Calculator is 20\n"
     ]
    }
   ],
   "source": [
    "print(f\"the value of BMI Calculator is {int(BMI_Calculator)}\")"
   ]
  },
  {
   "cell_type": "raw",
   "id": "9f831614-92a6-4cf2-bf4c-0de78f6235c8",
   "metadata": {},
   "source": [
    "Force Using Newton's Second Law:\n",
    "Write a Python program to calculate the force on an object. Use the formula:\n",
    "F=ma\n",
    "Take m (mass in kilograms) and a (acceleration in meters/second²) as inputs from the\n",
    "user."
   ]
  },
  {
   "cell_type": "code",
   "execution_count": 141,
   "id": "5183afc0-64fe-4553-ad2c-68e80efc64c7",
   "metadata": {},
   "outputs": [
    {
     "name": "stdin",
     "output_type": "stream",
     "text": [
      "the value of Mass in killogram is 5\n",
      "the value of am is 30\n",
      "the value of as is 100\n"
     ]
    }
   ],
   "source": [
    "m = int(input(\"the value of Mass in killogram is\"))\n",
    "a_m = int(input(\"the value of am is\"))\n",
    "a_s = int(input(\"the value of as is\"))"
   ]
  },
  {
   "cell_type": "code",
   "execution_count": 145,
   "id": "09998d35-707e-47df-80aa-3f8ba90e7a07",
   "metadata": {},
   "outputs": [],
   "source": [
    "F = m * a_m / a_s**2"
   ]
  },
  {
   "cell_type": "code",
   "execution_count": 147,
   "id": "e0b3dba2-e874-48ff-82b5-298e3234df3d",
   "metadata": {},
   "outputs": [
    {
     "data": {
      "text/plain": [
       "0.015"
      ]
     },
     "execution_count": 147,
     "metadata": {},
     "output_type": "execute_result"
    }
   ],
   "source": [
    "F"
   ]
  },
  {
   "cell_type": "raw",
   "id": "630eeeb1-c8db-4b85-a02f-f050295c1b1c",
   "metadata": {},
   "source": [
    "Compound Interest:\n",
    "Write a Python program to calculate compound interest. Use the formula:\n",
    "A = P*(1+r/n)n-t\n",
    "Where:\n",
    "A= total amount\n",
    "P = principal amount\n",
    "r = annual interest rate (decimal)\n",
    "n = number of times interest is compounded per year\n",
    "t = time in years\n",
    "Take P, r, n, and t as inputs from the user."
   ]
  },
  {
   "cell_type": "code",
   "execution_count": 149,
   "id": "63ddca6d-1398-41fa-b3a7-dc44189167f8",
   "metadata": {},
   "outputs": [
    {
     "name": "stdin",
     "output_type": "stream",
     "text": [
      "the value of principle is 100\n",
      "the value of rate 15.5\n",
      "the value of compounded is 50\n",
      "the value of time in year 8760\n"
     ]
    }
   ],
   "source": [
    "p = int(input(\"the value of principle is\"))\n",
    "r = float(input(\"the value of rate\"))\n",
    "n = int(input(\"the value of compounded is\"))\n",
    "t = int(input(\"the value of time in year\"))"
   ]
  },
  {
   "cell_type": "code",
   "execution_count": 155,
   "id": "4992c50d-4356-44f5-84d0-2611675c696a",
   "metadata": {},
   "outputs": [],
   "source": [
    "A = p*(1+r/n)**n-t"
   ]
  },
  {
   "cell_type": "code",
   "execution_count": 157,
   "id": "42fef4f3-8cde-48bb-8148-8f35253c0128",
   "metadata": {},
   "outputs": [
    {
     "data": {
      "text/plain": [
       "73031915.79770038"
      ]
     },
     "execution_count": 157,
     "metadata": {},
     "output_type": "execute_result"
    }
   ],
   "source": [
    "A"
   ]
  },
  {
   "cell_type": "raw",
   "id": "0582382c-3e67-44f2-b3dc-b8219873df58",
   "metadata": {},
   "source": [
    "Perimeter of a Triangle:\n",
    "Write a Python program to calculate the perimeter of a triangle. Use the formula:\n",
    "𝑷𝒆𝒓𝒊𝒎𝒆𝒕𝒆𝒓 = 𝒂 + 𝒃 + 𝒄\n",
    "Take a, b, and c (lengths of the three sides) as inputs from the user"
   ]
  },
  {
   "cell_type": "code",
   "execution_count": 159,
   "id": "33aa798a-ddf9-42b5-bac1-3cd3081559ec",
   "metadata": {},
   "outputs": [
    {
     "name": "stdin",
     "output_type": "stream",
     "text": [
      "the value of a is 100\n",
      "the value of b is 200\n",
      "the value of c is 300\n"
     ]
    }
   ],
   "source": [
    "a = int(input(\"the value of a is\"))\n",
    "b = int(input(\"the value of b is\"))\n",
    "c = int(input(\"the value of c is\"))"
   ]
  },
  {
   "cell_type": "code",
   "execution_count": 161,
   "id": "18648091-42a7-4017-8b62-eabab194bae5",
   "metadata": {},
   "outputs": [],
   "source": [
    "Perimeter_Triangle = a + b +c"
   ]
  },
  {
   "cell_type": "code",
   "execution_count": 165,
   "id": "33e5a23e-9b27-4ddd-ac4b-a36f2b6ec6bb",
   "metadata": {},
   "outputs": [
    {
     "data": {
      "text/plain": [
       "600"
      ]
     },
     "execution_count": 165,
     "metadata": {},
     "output_type": "execute_result"
    }
   ],
   "source": [
    "Perimeter_Triangle"
   ]
  },
  {
   "cell_type": "raw",
   "id": "2a56177a-f9ad-4d75-b2fe-272f61e88dcf",
   "metadata": {},
   "source": [
    "Volume of a Sphere:\n",
    "Write a Python program to calculate the volume of a sphere. Use the formula:\n",
    "Volume = 4/3 nr3\n",
    "Take r (radius) as input from the user.\n"
   ]
  },
  {
   "cell_type": "code",
   "execution_count": 185,
   "id": "62565fde-9a5f-496f-9cdd-5c44e52fb8ab",
   "metadata": {},
   "outputs": [
    {
     "name": "stdin",
     "output_type": "stream",
     "text": [
      "the value of radius is  20\n"
     ]
    }
   ],
   "source": [
    "R = int(input(\"the value of radius is \"))"
   ]
  },
  {
   "cell_type": "code",
   "execution_count": 201,
   "id": "8cce3168-1946-4158-a219-9620b3b3c6d0",
   "metadata": {},
   "outputs": [],
   "source": [
    "Volume = 4/3*math.pi*R**3"
   ]
  },
  {
   "cell_type": "code",
   "execution_count": 203,
   "id": "fc37a178-ac52-4373-b964-a267eeabb01c",
   "metadata": {},
   "outputs": [
    {
     "data": {
      "text/plain": [
       "33510.32163829113"
      ]
     },
     "execution_count": 203,
     "metadata": {},
     "output_type": "execute_result"
    }
   ],
   "source": [
    "Volume"
   ]
  },
  {
   "cell_type": "raw",
   "id": "051644b8-50d7-4e35-9bd4-a13186e5e5b3",
   "metadata": {},
   "source": [
    "Kinetic Energy:\n",
    "Write a Python program to calculate the kinetic energy of an object. Use the formula:\n",
    "𝑲𝑬 = 𝟏/𝟐 𝒎 𝑽𝟐\n",
    "Take m (mass in kilograms) and v (velocity in meters/second) as inputs from the user."
   ]
  },
  {
   "cell_type": "code",
   "execution_count": 207,
   "id": "f64028a7-72f8-4216-b110-2921849d0eb7",
   "metadata": {},
   "outputs": [
    {
     "name": "stdin",
     "output_type": "stream",
     "text": [
      "the value of mass kg is 10\n",
      "the value of VM is 100\n"
     ]
    }
   ],
   "source": [
    "Mass_Kg = int(input(\"the value of mass kg is\"))\n",
    "V = int(input(\"the value of VM is\"))"
   ]
  },
  {
   "cell_type": "code",
   "execution_count": 209,
   "id": "18ffd964-91e7-4c74-a08d-b6e9fb84a01a",
   "metadata": {},
   "outputs": [],
   "source": [
    "KE = 1/2*Mass_Kg*V**2"
   ]
  },
  {
   "cell_type": "code",
   "execution_count": 211,
   "id": "57ae4f2a-0be6-4bc3-b2a4-a6c903641f8d",
   "metadata": {},
   "outputs": [
    {
     "data": {
      "text/plain": [
       "50000.0"
      ]
     },
     "execution_count": 211,
     "metadata": {},
     "output_type": "execute_result"
    }
   ],
   "source": [
    "KE"
   ]
  },
  {
   "cell_type": "raw",
   "id": "1a8abce1-ec4e-4b5e-bf6d-d148d7336f2d",
   "metadata": {},
   "source": [
    "Temperature Conversion:\n",
    "Write a Python program to convert a temperature from Celsius to Fahrenheit. Use the\n",
    "formula:\n",
    "F = 9/5 C+32\n",
    "Take C (temperature in Celsius) as input from the user"
   ]
  },
  {
   "cell_type": "code",
   "execution_count": 1,
   "id": "485fe6b8-1ec8-4d6e-a8cc-272e9777e11c",
   "metadata": {},
   "outputs": [
    {
     "name": "stdin",
     "output_type": "stream",
     "text": [
      "The value of temperature in celsius is 50\n"
     ]
    }
   ],
   "source": [
    "C = int(input(\"The value of temperature in celsius is\"))"
   ]
  },
  {
   "cell_type": "code",
   "execution_count": 5,
   "id": "5ef66500-496c-4396-b57b-0730ec1ae110",
   "metadata": {},
   "outputs": [],
   "source": [
    "F = 9/5*C+32"
   ]
  },
  {
   "cell_type": "code",
   "execution_count": 9,
   "id": "8856f304-c348-4050-b528-5ec25051a0c5",
   "metadata": {},
   "outputs": [
    {
     "name": "stdout",
     "output_type": "stream",
     "text": [
      "the value of temperature in celsius 122.0\n"
     ]
    }
   ],
   "source": [
    "print(f'the value of temperature in celsius {F}')"
   ]
  },
  {
   "cell_type": "raw",
   "id": "b925b09f-1674-46b3-9e29-56929f47ea07",
   "metadata": {},
   "source": [
    "Gravitational Force:\n",
    "Write a Python program to calculate the gravitational force between two objects. Use\n",
    "the formula\n",
    "𝑭 = 𝑮 𝒎𝟏 ∗ 𝒎𝟐\n",
    "𝒓𝟐\n",
    "m1, m2 are the masses of the objects\n",
    "r = distance between the centers of the objects\n",
    "Take m1, m2 and r as inputs from the user"
   ]
  },
  {
   "cell_type": "code",
   "execution_count": 31,
   "id": "19ced7a2-be4d-4744-8326-cc85cf78b8dd",
   "metadata": {},
   "outputs": [
    {
     "name": "stdin",
     "output_type": "stream",
     "text": [
      "the value of m1 is 400000\n",
      "the value of m2 is 350000\n",
      "the value of r is 380000\n"
     ]
    }
   ],
   "source": [
    "m1 = int(input(\"the value of m1 is\"))\n",
    "m2 = int(input(\"the value of m2 is\"))\n",
    "r = int(input(\"the value of r is\"))\n",
    "g = 6.673*(10**-11)"
   ]
  },
  {
   "cell_type": "code",
   "execution_count": 33,
   "id": "342c58eb-09e1-418d-b285-7e34340716de",
   "metadata": {},
   "outputs": [],
   "source": [
    "F = g*m1*m2*r**2"
   ]
  },
  {
   "cell_type": "code",
   "execution_count": 37,
   "id": "0c660504-5ed1-4144-8fca-40ff057f6852",
   "metadata": {},
   "outputs": [
    {
     "name": "stdout",
     "output_type": "stream",
     "text": [
      "the value of F is 1349013680000\n"
     ]
    }
   ],
   "source": [
    "print(f'the value of F is {int(F)}')"
   ]
  },
  {
   "cell_type": "raw",
   "id": "63b6c036-2acd-4683-be26-200c41d8beaf",
   "metadata": {},
   "source": [
    "Volume of a Cylinder:\n",
    "Write a Python program to calculate the volume of a cylinder. Use the formula:\n",
    "𝑽𝒐𝒍𝒖𝒎𝒆 = 𝝅𝒓𝟐𝒉\n",
    "Take radius(r) and height(h) as inputs from the user"
   ]
  },
  {
   "cell_type": "code",
   "execution_count": 51,
   "id": "7c142110-abdc-4a82-850b-24b279bfe9b7",
   "metadata": {},
   "outputs": [],
   "source": [
    "import math"
   ]
  },
  {
   "cell_type": "code",
   "execution_count": 47,
   "id": "eabbabd2-0c23-4165-becd-8183c5787174",
   "metadata": {},
   "outputs": [
    {
     "name": "stdin",
     "output_type": "stream",
     "text": [
      "the radius value is 50\n",
      "the height is 30\n"
     ]
    }
   ],
   "source": [
    "R = int(input(\"the radius value is\"))\n",
    "H = int(input(\"the height is\"))"
   ]
  },
  {
   "cell_type": "code",
   "execution_count": 53,
   "id": "f89f2368-df58-471c-82cc-c571ee50cdac",
   "metadata": {},
   "outputs": [],
   "source": [
    "Volume_Cylinder = math.pi*R**2*H"
   ]
  },
  {
   "cell_type": "code",
   "execution_count": 59,
   "id": "8d70a438-40fd-4ead-a527-050228a1ac83",
   "metadata": {},
   "outputs": [
    {
     "name": "stdout",
     "output_type": "stream",
     "text": [
      " The volume of a Cylinder is 235619\n"
     ]
    }
   ],
   "source": [
    "print (f' The volume of a Cylinder is {int(Volume_Cylinder)}')"
   ]
  },
  {
   "cell_type": "raw",
   "id": "7dda7e0e-1b4e-432a-a368-8a1787c82451",
   "metadata": {},
   "source": [
    "Pressure:\n",
    "Write a Python program to calculate the pressure exerted by a force on a surface. Use\n",
    "the formula:\n",
    "𝑷 = 𝑭\n",
    "𝑨\n",
    "P = pressure\n",
    "F = force\n",
    "A = area\n",
    "Take F(force) and A(area) as inputs from the user"
   ]
  },
  {
   "cell_type": "code",
   "execution_count": 61,
   "id": "c973ed21-93ad-40dc-b87a-f67c5e79dac2",
   "metadata": {},
   "outputs": [
    {
     "name": "stdin",
     "output_type": "stream",
     "text": [
      "The force value is 100\n",
      "The Area value is 50\n"
     ]
    }
   ],
   "source": [
    "F = int(input(\"The force value is\"))\n",
    "A = int(input(\"The Area value is\"))"
   ]
  },
  {
   "cell_type": "code",
   "execution_count": 63,
   "id": "405caec5-61d5-424c-a259-a5b110ba652f",
   "metadata": {},
   "outputs": [],
   "source": [
    "P = F/A"
   ]
  },
  {
   "cell_type": "code",
   "execution_count": 69,
   "id": "cc74cd50-f154-4f10-9a66-945637bf305a",
   "metadata": {},
   "outputs": [
    {
     "name": "stdout",
     "output_type": "stream",
     "text": [
      " The Pressure Value is 2\n"
     ]
    }
   ],
   "source": [
    "print(f' The Pressure Value is {int(P)}')"
   ]
  },
  {
   "cell_type": "raw",
   "id": "83b637f3-dc80-479d-956e-97a870fb82a9",
   "metadata": {},
   "source": [
    "Electric Power:\n",
    "Write a Python program to calculate the electric power consumed. Use the formula:\n",
    "where:\n",
    "P = power\n",
    "V = voltage\n",
    "I = current\n",
    "Take V(voltage) and I(current) as inputs from the user"
   ]
  },
  {
   "cell_type": "code",
   "execution_count": 71,
   "id": "738223c6-cbb6-41e4-ab0a-fdc261ada04a",
   "metadata": {},
   "outputs": [
    {
     "name": "stdin",
     "output_type": "stream",
     "text": [
      "The value of Voltage is  60\n",
      "The value of Current is 40\n"
     ]
    }
   ],
   "source": [
    "V = int(input(\"The value of Voltage is \"))\n",
    "I = int(input(\"The value of Current is\"))"
   ]
  },
  {
   "cell_type": "code",
   "execution_count": 73,
   "id": "a2dacd2c-e939-457d-95b0-b0298f9dd0fb",
   "metadata": {},
   "outputs": [],
   "source": [
    "P = V / I"
   ]
  },
  {
   "cell_type": "code",
   "execution_count": 75,
   "id": "a7957318-0c29-48ef-b68d-05b722db5ded",
   "metadata": {},
   "outputs": [
    {
     "name": "stdout",
     "output_type": "stream",
     "text": [
      "The value of Power 1.5\n"
     ]
    }
   ],
   "source": [
    "print(f'The value of Power {P}')"
   ]
  },
  {
   "cell_type": "raw",
   "id": "8424c056-4821-41dc-849f-299408c6c928",
   "metadata": {},
   "source": [
    "Perimeter of a Circle (Circumference):\n",
    "Write a Python program to calculate the perimeter (circumference) of a circle. Use the\n",
    "formula:\n",
    "Take r (radius) as input from the user."
   ]
  },
  {
   "cell_type": "code",
   "execution_count": 79,
   "id": "24b6874c-6bff-4c4e-bdca-7c291976b905",
   "metadata": {},
   "outputs": [],
   "source": [
    "import math"
   ]
  },
  {
   "cell_type": "code",
   "execution_count": 77,
   "id": "71d4eca1-cde4-4335-905a-d4177bf45615",
   "metadata": {},
   "outputs": [
    {
     "name": "stdin",
     "output_type": "stream",
     "text": [
      "The value of Radius is  100\n"
     ]
    }
   ],
   "source": [
    "R = int(input(\"The value of Radius is \"))"
   ]
  },
  {
   "cell_type": "code",
   "execution_count": 81,
   "id": "89798f48-c2ce-417b-9647-f944c3a84f02",
   "metadata": {},
   "outputs": [],
   "source": [
    "P = 2*math.pi*R"
   ]
  },
  {
   "cell_type": "code",
   "execution_count": 83,
   "id": "364f27f8-0796-4e9a-99ed-d7e20a0a6ed9",
   "metadata": {},
   "outputs": [
    {
     "data": {
      "text/plain": [
       "628.3185307179587"
      ]
     },
     "execution_count": 83,
     "metadata": {},
     "output_type": "execute_result"
    }
   ],
   "source": [
    "P"
   ]
  },
  {
   "cell_type": "raw",
   "id": "33116638-26fd-4630-aa23-3ef0045fdf25",
   "metadata": {},
   "source": [
    "Future Value in Savings:\n",
    "Write a Python program to calculate the future value of an investment. Use the formula:\n",
    "𝐹𝑉 = 𝑃𝑉(1 + 𝑟)௧\n",
    "where:\n",
    "o FV= future value\n",
    "o PV= present value\n",
    "o r= annual interest rate (as a decimal)\n",
    "o t= time in years\n",
    "Take PV, r, and t as inputs from the user"
   ]
  },
  {
   "cell_type": "code",
   "execution_count": 85,
   "id": "db75bdea-5bb2-4cf9-8f07-6200d5d44367",
   "metadata": {},
   "outputs": [
    {
     "name": "stdin",
     "output_type": "stream",
     "text": [
      "The value of Present Value is 200\n",
      "The value of Annual Intrest is 1.5\n",
      "The value of Time in Year is 100\n"
     ]
    }
   ],
   "source": [
    "PV = int(input(\"The value of Present Value is\"))\n",
    "R = float(input(\"The value of Annual Intrest is\"))\n",
    "T = int(input(\"The value of Time in Year is\"))"
   ]
  },
  {
   "cell_type": "code",
   "execution_count": 89,
   "id": "f7fb7fd1-cb26-45e1-933b-945752ead523",
   "metadata": {},
   "outputs": [],
   "source": [
    "FV = PV*(1+R)*T"
   ]
  },
  {
   "cell_type": "code",
   "execution_count": 107,
   "id": "a620dfcd-8b33-4260-aeec-dfb900d0b114",
   "metadata": {},
   "outputs": [
    {
     "data": {
      "text/plain": [
       "50000.0"
      ]
     },
     "execution_count": 107,
     "metadata": {},
     "output_type": "execute_result"
    }
   ],
   "source": [
    "FV"
   ]
  },
  {
   "cell_type": "raw",
   "id": "f8def9ce-134f-4d59-bda8-cd60300e719d",
   "metadata": {},
   "source": [
    "Heat Transfer:\n",
    "Write a Python program to calculate the amount of heat transferred. Use the formula:\n",
    "𝑄 = 𝑚𝑐 (∆T)\n",
    "where:\n",
    "Q= heat transfer\n",
    "m = mass\n",
    "c = specific heat capacity\n",
    "ΔT\n",
    "Take m, c, T as inputs from the user"
   ]
  },
  {
   "cell_type": "code",
   "execution_count": 111,
   "id": "7f9335ff-ca2d-465b-bfe0-2f1102cb77f0",
   "metadata": {},
   "outputs": [
    {
     "name": "stdin",
     "output_type": "stream",
     "text": [
      "The value of Mass is 500\n",
      "The value of Capacity 300\n",
      "The value of initial Temperature is 400\n",
      "The value of Final Temperature is  200\n"
     ]
    }
   ],
   "source": [
    "M = int(input(\"The value of Mass is\"))\n",
    "C = int(input(\"The value of Capacity\"))\n",
    "T1 = int(input(\"The value of initial Temperature is\"))\n",
    "T2 = int(input(\"The value of Final Temperature is \"))"
   ]
  },
  {
   "cell_type": "code",
   "execution_count": 113,
   "id": "08cffc92-26c4-45c0-8acb-1b3cc7858157",
   "metadata": {},
   "outputs": [],
   "source": [
    "Q = M*C*(T1-T2)"
   ]
  },
  {
   "cell_type": "code",
   "execution_count": 115,
   "id": "e68baa54-210a-407b-a100-2a475ea0bc5a",
   "metadata": {},
   "outputs": [
    {
     "data": {
      "text/plain": [
       "30000000"
      ]
     },
     "execution_count": 115,
     "metadata": {},
     "output_type": "execute_result"
    }
   ],
   "source": [
    "Q"
   ]
  },
  {
   "cell_type": "raw",
   "id": "5ccbfcbe-cfa8-4045-bbf8-0fcdc1474a98",
   "metadata": {},
   "source": [
    "Work Done by a Force:\n",
    "Write a Python program to calculate the work done by a force. Use the formula:\n",
    "where:\n",
    "W = work done\n",
    "f= force\n",
    "d = distance\n",
    "theta = angle between force and direction of movement (in degrees)\n",
    "Take f, d, and θ as inputs from the user"
   ]
  },
  {
   "cell_type": "code",
   "execution_count": 117,
   "id": "032ec424-16b1-46b9-9628-9846ccecf84b",
   "metadata": {},
   "outputs": [
    {
     "name": "stdin",
     "output_type": "stream",
     "text": [
      "The value of force is  50\n",
      "The value of distance is  20\n",
      "The value of angle is 30\n"
     ]
    }
   ],
   "source": [
    "F = int(input(\"The value of force is \"))\n",
    "D = int(input(\"The value of distance is \"))\n",
    "theta = int(input(\"The value of angle is\"))"
   ]
  },
  {
   "cell_type": "code",
   "execution_count": 127,
   "id": "5117aadc-0df0-4f64-a286-171827eb132c",
   "metadata": {},
   "outputs": [],
   "source": [
    "Work_done = F*D*math.cos(math.radians(theta))"
   ]
  },
  {
   "cell_type": "code",
   "execution_count": 123,
   "id": "14719856-5652-479d-bca1-d428e53fa53c",
   "metadata": {},
   "outputs": [
    {
     "data": {
      "text/plain": [
       "866.0254037844387"
      ]
     },
     "execution_count": 123,
     "metadata": {},
     "output_type": "execute_result"
    }
   ],
   "source": [
    "Work_done"
   ]
  },
  {
   "cell_type": "raw",
   "id": "d732f945-0eb0-4ad4-bdf0-18366d79c5b3",
   "metadata": {},
   "source": [
    "Quadratic Equation Roots:\n",
    "Write a Python program to find the roots of a quadratic equation. Use the formula:\n",
    "X =ି ௕ ±√௕మି ସ௔௖\n",
    "ଶ௔\n",
    "Take a, b, and c as inputs from the user"
   ]
  },
  {
   "cell_type": "code",
   "execution_count": 129,
   "id": "5e5454de-9129-4345-8539-904a44f40e0a",
   "metadata": {},
   "outputs": [
    {
     "name": "stdin",
     "output_type": "stream",
     "text": [
      "The value of a is  100\n",
      "The value of B is 50\n",
      "The value of C is 20\n"
     ]
    }
   ],
   "source": [
    "A = int(input(\"The value of a is \"))\n",
    "B = int(input(\"The value of B is\"))\n",
    "C = int(input(\"The value of C is\"))"
   ]
  },
  {
   "cell_type": "code",
   "execution_count": 1,
   "id": "b5737c8f-30b0-43d8-8ca3-f00bf5ffa4f7",
   "metadata": {},
   "outputs": [],
   "source": [
    "a =2\n",
    "b=3\n",
    "c=4"
   ]
  },
  {
   "cell_type": "code",
   "execution_count": null,
   "id": "c7520e31-5600-43e8-8792-d5ab133a23d4",
   "metadata": {},
   "outputs": [],
   "source": [
    "x1,x2 = (-b+(b**2-4*a*c)"
   ]
  }
 ],
 "metadata": {
  "kernelspec": {
   "display_name": "Python 3 (ipykernel)",
   "language": "python",
   "name": "python3"
  },
  "language_info": {
   "codemirror_mode": {
    "name": "ipython",
    "version": 3
   },
   "file_extension": ".py",
   "mimetype": "text/x-python",
   "name": "python",
   "nbconvert_exporter": "python",
   "pygments_lexer": "ipython3",
   "version": "3.12.7"
  }
 },
 "nbformat": 4,
 "nbformat_minor": 5
}
